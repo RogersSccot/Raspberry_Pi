{
 "cells": [
  {
   "cell_type": "code",
   "execution_count": null,
   "metadata": {},
   "outputs": [],
   "source": [
    "# 导入必要的函数库\n",
    "import cv2\n",
    "import numpy as np\n",
    "import math\n",
    "import matplotlib.pyplot as plt\n",
    "import serial\n",
    "import pylab as pl\n",
    "import scipy.ndimage\n",
    "import threading\n",
    "import time\n",
    "from matplotlib.patches import Polygon\n",
    "from scipy.signal import convolve2d \n",
    "from PIL import Image\n",
    "from scipy import ndimage"
   ]
  },
  {
   "cell_type": "code",
   "execution_count": null,
   "metadata": {},
   "outputs": [],
   "source": [
    "# 打开摄像头，占用内存大，不轻易运行\n",
    "# capture=cv2.VideoCapture(1)"
   ]
  },
  {
   "cell_type": "code",
   "execution_count": null,
   "metadata": {},
   "outputs": [],
   "source": [
    "# 打开串口\n",
    "# ser_32 = serial.Serial('/dev/ttyAMA0', 921600)\n",
    "# ser_screen=serial.Serial('/dev/ttyAMA3', 115200)"
   ]
  },
  {
   "cell_type": "code",
   "execution_count": null,
   "metadata": {},
   "outputs": [],
   "source": [
    "# 获取并处理图像\n",
    "def get_image():\n",
    "    while True:\n",
    "        # 开全局变量处理，分理处红绿蓝\n",
    "        global image, image_red, image_green, image_blue\n",
    "        # 从摄像头获取图像\n",
    "        # _,image=capture.read()\n",
    "        image=cv2.imread('1.jpg')\n",
    "        image_red=image[:,:,2].astype(np.float32)\n",
    "        image_green=image[:,:,1].astype(np.float32)\n",
    "        image_blue=image[:,:,0].astype(np.float32)\n",
    "        #cv2.imshow('image',image)\n",
    "        #cv2.waitKey(1)\n",
    "\n",
    "# 获取图像单独开进程\n",
    "# get_image_threading = threading.Thread(target=get_image)\n",
    "# get_image_threading.start()"
   ]
  },
  {
   "cell_type": "code",
   "execution_count": null,
   "metadata": {},
   "outputs": [],
   "source": [
    "# 发送命令，通用函数\n",
    "def send_order(order, ser):\n",
    "    print('order='+order)\n",
    "    encoded_order = order.encode()\n",
    "    ser.write(encoded_order)"
   ]
  },
  {
   "cell_type": "code",
   "execution_count": null,
   "metadata": {},
   "outputs": [],
   "source": [
    "# 获取消息，通用函数\n",
    "def get_mail(ser):\n",
    "    encoded_mail = ser.read(1)\n",
    "    print('mail='+encoded_mail)"
   ]
  },
  {
   "cell_type": "code",
   "execution_count": null,
   "metadata": {},
   "outputs": [],
   "source": [
    "# 突出图像中的红色目标\n",
    "def get_red():\n",
    "    global image, image_red, image_green, image_blue\n",
    "    image_red_only=image_red*2-image_blue-image_green\n",
    "    image_red_only[image_red_only<0]=0\n",
    "    return image_red_only"
   ]
  },
  {
   "cell_type": "code",
   "execution_count": null,
   "metadata": {},
   "outputs": [],
   "source": [
    "# 在某一图像的指定位置添加图案\n",
    "kernel = np.array([\n",
    "[0,0,0,0,0,0,0,1,1,1,1,1,1,1,1,0,0,0,0,0,0,0],\n",
    "[0,0,0,0,0,0,1,1,1,1,1,1,1,1,1,1,0,0,0,0,0,0],\n",
    "[0,0,0,0,0,1,1,1,1,1,1,1,1,1,1,1,1,0,0,0,0,0],\n",
    "[0,0,0,0,1,1,1,1,1,1,1,1,1,1,1,1,1,1,0,0,0,0],\n",
    "[0,0,0,1,1,1,1,1,1,1,1,1,1,1,1,1,1,1,1,0,0,0],\n",
    "[0,0,1,1,1,1,1,0,0,0,0,0,0,0,0,1,1,1,1,1,0,0],\n",
    "[0,1,1,1,1,1,0,0,0,0,0,0,0,0,0,0,1,1,1,1,1,0],\n",
    "[1,1,1,1,1,0,0,0,0,0,0,0,0,0,0,0,0,1,1,1,1,1],\n",
    "[1,1,1,1,1,0,0,0,0,0,0,0,0,0,0,0,0,1,1,1,1,1],\n",
    "[1,1,1,1,1,0,0,0,0,0,0,0,0,0,0,0,0,1,1,1,1,1],\n",
    "[1,1,1,1,1,0,0,0,0,0,0,0,0,0,0,0,0,1,1,1,1,1],\n",
    "[1,1,1,1,1,0,0,0,0,0,0,0,0,0,0,0,0,1,1,1,1,1],\n",
    "[1,1,1,1,1,0,0,0,0,0,0,0,0,0,0,0,0,1,1,1,1,1],\n",
    "[1,1,1,1,1,0,0,0,0,0,0,0,0,0,0,0,0,1,1,1,1,1],\n",
    "[1,1,1,1,1,0,0,0,0,0,0,0,0,0,0,0,0,1,1,1,1,1],\n",
    "[0,1,1,1,1,1,0,0,0,0,0,0,0,0,0,0,1,1,1,1,1,0],\n",
    "[0,0,1,1,1,1,1,0,0,0,0,0,0,0,0,1,1,1,1,1,0,0],\n",
    "[0,0,0,1,1,1,1,1,1,1,1,1,1,1,1,1,1,1,1,0,0,0],\n",
    "[0,0,0,0,1,1,1,1,1,1,1,1,1,1,1,1,1,1,0,0,0,0],\n",
    "[0,0,0,0,0,1,1,1,1,1,1,1,1,1,1,1,1,0,0,0,0,0],\n",
    "[0,0,0,0,0,0,1,1,1,1,1,1,1,1,1,1,0,0,0,0,0,0],\n",
    "[0,0,0,0,0,0,0,1,1,1,1,1,1,1,1,0,0,0,0,0,0,0],\n",
    "])*255\n",
    "def draw_image(image_gray_to_draw, kernel, kernel_point):\n",
    "    try:\n",
    "        image_gray_to_draw[int(kernel_point[0]-11):int(kernel_point[0]+11),int(kernel_point[1]-11):int(kernel_point[1]+11)]=kernel\n",
    "    except:\n",
    "        pass\n",
    "    return image_gray_to_draw\n",
    "# 拍照，保存一张照片\n",
    "def take_photo(photo_name):\n",
    "    global capture\n",
    "    photo_name=photo_name+'.jpg'\n",
    "    _,image=capture.read()\n",
    "    cv2.imwrite(photo_name,image)\n",
    "    print('take photo success')\n",
    "# 展示图片\n",
    "def show_image(image):\n",
    "    image_show=image.astype(np.uint8)\n",
    "    plt.imshow(image_show, cmap='gray')\n",
    "    plt.axis('off')  # 不显示坐标轴\n",
    "    plt.show()"
   ]
  },
  {
   "cell_type": "code",
   "execution_count": null,
   "metadata": {},
   "outputs": [],
   "source": [
    "# 模式匹配找车\n",
    "# 这个是目标图像\n",
    "# aim_image = cv2.imread('aim.png')\n",
    "# 这个是目标图像的灰度图\n",
    "# aim_gray = cv2.cvtColor(aim_image, cv2.COLOR_BGR2GRAY)\n",
    "threshold = 0.8\n",
    "def find_car_mate(image_gray):\n",
    "    global car_center\n",
    "    try:\n",
    "        result = cv2.matchTemplate(image_gray, aim_gray, cv2.TM_CCOEFF_NORMED)\n",
    "        locations = np.where(result >= threshold)\n",
    "        # 转换为(x, y)坐标\n",
    "        locations = list(zip(*locations[::-1]))\n",
    "        # 转换为目标中心点坐标\n",
    "        car_center=np.array([int(locations[0][1] + aim_image.shape[0] / 2),int(locations[0][0] + aim_image.shape[1] / 2)])\n",
    "    except:\n",
    "        car_center=car_center\n",
    "    return(car_center)"
   ]
  },
  {
   "cell_type": "code",
   "execution_count": null,
   "metadata": {},
   "outputs": [],
   "source": [
    "# 颜色识别找车\n",
    "def find_car_red(image_gray):\n",
    "    global car_center\n",
    "    try:\n",
    "        d1=np.argwhere(image_gray[70:100,100:540] > 100)\n",
    "        car_center=np.mean(d1,axis=0)\n",
    "    except:\n",
    "        car_center=car_center"
   ]
  },
  {
   "cell_type": "code",
   "execution_count": null,
   "metadata": {},
   "outputs": [],
   "source": [
    "# 这里默认从左到右的顺序，从上到下的顺序\n",
    "grid_1=[]\n",
    "label_1=['0','1','2','3','4','5','6','7','8','9','A','B','C','D','E','F']\n",
    "# 定位函数，定位车在哪个格子里\n",
    "def locate_car(car_center):\n",
    "    # 首先找到小车在16宫格内的坐标\n",
    "    car_center_M=car_center\n",
    "    car_index=int(car_center_M[0]/120)*4+int(car_center_M[1]/160)\n",
    "    return label_1[car_index]"
   ]
  },
  {
   "cell_type": "code",
   "execution_count": null,
   "metadata": {},
   "outputs": [],
   "source": [
    "# 我们需要将我们读取到的图像映射成一个平整的图像\n",
    "ex1=cv2.imread('good.jpg')\n",
    "ex1_grey=cv2.cvtColor(ex1, cv2.COLOR_BGR2GRAY)\n",
    "grid=cv2.imread('grid.jpg')\n",
    "grid_grey=cv2.cvtColor(grid, cv2.COLOR_BGR2GRAY)\n",
    "ad=cv2.imread('grid.jpg')\n",
    "ad_grey=cv2.cvtColor(ad, cv2.COLOR_BGR2GRAY)"
   ]
  },
  {
   "cell_type": "code",
   "execution_count": null,
   "metadata": {},
   "outputs": [],
   "source": [
    "ad.shape"
   ]
  },
  {
   "cell_type": "code",
   "execution_count": null,
   "metadata": {},
   "outputs": [],
   "source": [
    "968/4"
   ]
  },
  {
   "cell_type": "code",
   "execution_count": null,
   "metadata": {},
   "outputs": [],
   "source": [
    "M=np.load('M.npy')\n",
    "ex1_grey2=ex1_grey.copy()\n",
    "# pts0=np.float32([[63,165],[413,116],[413,562],[53,502]])\n",
    "show_image(draw_image(ex1_grey2, kernel, [253,402]))\n",
    "a=np.array([402,253,1])\n",
    "now_position=np.dot(M,a)\n",
    "print(now_position)"
   ]
  },
  {
   "cell_type": "code",
   "execution_count": null,
   "metadata": {},
   "outputs": [],
   "source": [
    "print(type(M))"
   ]
  },
  {
   "cell_type": "code",
   "execution_count": null,
   "metadata": {},
   "outputs": [],
   "source": [
    "M=np.save('M.npy',M)"
   ]
  },
  {
   "cell_type": "code",
   "execution_count": null,
   "metadata": {},
   "outputs": [],
   "source": [
    "M=np.load('M.npy')"
   ]
  },
  {
   "cell_type": "code",
   "execution_count": null,
   "metadata": {},
   "outputs": [],
   "source": [
    "# 我们需要将我们读取到的图像映射成一个平整的图像\n",
    "# 对应原先图像的，左上，左下，右下，右上，四个点\n",
    "pts0=np.float32([[63,165],[413,116],[413,562],[53,502]])\n",
    "# 建立映射需要的一一对应\n",
    "pts1=np.float32([[pts0[0][1],pts0[0][0]],[pts0[3][1],pts0[3][0]],[pts0[2][1],pts0[2][0]],[pts0[1][1],pts0[1][0]]])\n",
    "# 对应映射后图像，左上，左下，右下，右上，四个点\n",
    "pts2=np.float32([[0,0],[968,0],[968,968],[0,968]])\n",
    "# 生成最为关键的变换矩阵\n",
    "M = cv2.getPerspectiveTransform(pts1,pts2)\n",
    "# 变换正方形\n",
    "square_trans = cv2.warpPerspective(ex1_grey,M,(grid.shape[1],grid.shape[0]))\n",
    "show_image(square_trans)"
   ]
  },
  {
   "cell_type": "code",
   "execution_count": null,
   "metadata": {},
   "outputs": [],
   "source": [
    "square_trans3=square_trans.copy()\n",
    "show_image(draw_image(square_trans3, kernel, [780.0/1.3,847.0/1.3]))"
   ]
  },
  {
   "cell_type": "code",
   "execution_count": null,
   "metadata": {},
   "outputs": [],
   "source": [
    "# 图像的映射变换\n",
    "def photo_transform(ad,origin,border_point):\n",
    "    # 原先的四个角的边缘点\n",
    "    pts = np.float32([[0,0],[0,origin.shape[1]],[origin.shape[0],origin.shape[1]],[origin.shape[0],0]])\n",
    "    # 由于变换的特殊性，这里后面的点是列行，反着来的\n",
    "    border_point_1=np.zeros(np.shape(border_point))\n",
    "    border_point_1[:,0]=border_point[:,1]\n",
    "    border_point_1[:,1]=border_point[:,0]\n",
    "    pts1 = np.float32(border_point_1)\n",
    "    # 生成最为关键的变换矩阵\n",
    "    M = cv2.getPerspectiveTransform(pts,pts1)\n",
    "    # 变换正方形\n",
    "    square_trans = cv2.warpPerspective(origin,M,(ad.shape[1],ad.shape[0]))\n",
    "    square_trans = cv2.cvtColor(square_trans, cv2.COLOR_RGB2GRAY)\n",
    "    _, square_trans = cv2.threshold(square_trans, 127, 255, cv2.THRESH_BINARY)\n",
    "    return square_trans"
   ]
  },
  {
   "cell_type": "code",
   "execution_count": null,
   "metadata": {},
   "outputs": [],
   "source": [
    "s=0\n",
    "# take_photo('good')"
   ]
  },
  {
   "cell_type": "code",
   "execution_count": null,
   "metadata": {},
   "outputs": [],
   "source": [
    "# take_photo(f'{s}')\n",
    "s+=1"
   ]
  },
  {
   "cell_type": "code",
   "execution_count": null,
   "metadata": {},
   "outputs": [],
   "source": [
    "PBL=b'A14'\n",
    "aim_point21=(PBL[1]-48)*10+(PBL[2]-48)\n"
   ]
  },
  {
   "cell_type": "code",
   "execution_count": null,
   "metadata": {},
   "outputs": [],
   "source": [
    "road21=[]\n",
    "for i in range(aim_point21%4+1):\n",
    "    road21.append(i)\n",
    "for i in range(1,aim_point21//4+1):\n",
    "    road21.append(aim_point21%4+4*i)"
   ]
  },
  {
   "cell_type": "code",
   "execution_count": null,
   "metadata": {},
   "outputs": [],
   "source": [
    "road21_send=[]\n",
    "for i in road21:\n",
    "    p='P'+str(int(i/10))+str(i%10)\n",
    "    road21_send.append(p)\n",
    "road21_send.append('STOP')\n",
    "print(road21_send)"
   ]
  },
  {
   "cell_type": "code",
   "execution_count": null,
   "metadata": {},
   "outputs": [],
   "source": [
    "# road21=[]\n",
    "# road21_send=[]\n",
    "# for i in range(aim_point21%4+1):\n",
    "#     road21.append(i)\n",
    "# for i in range(1,aim_point21//4+1):\n",
    "#     road21.append(aim_point21%4+4*i)\n",
    "# for i in road21:\n",
    "#     p='P'+str(int(i/10))+str(i%10)\n",
    "#     road21_send.append(p)\n",
    "# road21_send.append('STOP')\n",
    "# print(road21_send)\n",
    "# # 此时已完成路径点的确定，发送给stm32\n",
    "# for i in road21_send:\n",
    "#     send_order(i, ser_32)"
   ]
  },
  {
   "cell_type": "code",
   "execution_count": null,
   "metadata": {},
   "outputs": [],
   "source": [
    "grid_coverd_int=[0, 1, 2, 3, 4, 5, 6, 8, 9, 10, 11, 12, 15]\n",
    "grid_cross=[[1,4],[2,5,0],[3,6,1],[7,2],[5,8,0],[6,9,4,1],[7,10,5,2],[11,6,3],[9,12,4],[10,13,8,5],[11,14,9,6],[15,10,7],[13,8],[14,12,9],[15,13,10],[14,11]]"
   ]
  },
  {
   "cell_type": "code",
   "execution_count": 106,
   "metadata": {},
   "outputs": [
    {
     "name": "stdout",
     "output_type": "stream",
     "text": [
      "[0, 1, 2, 6, 10]\n"
     ]
    }
   ],
   "source": [
    "grid_coverd_int=[0,1,2,3,4,5,6,7,8,9,10,12,13,15]\n",
    "grid_cross=[[1,4],[2,5,0],[3,6,1],[7,2],[5,8,0],[6,9,4,1],[7,10,5,2],[11,6,3],[9,12,4],[10,13,8,5],[11,14,9,6],[15,10,7],[13,8],[14,12,9],[15,13,10],[14,11]]\n",
    "aim_point22=10\n",
    "road22=[[0]]\n",
    "road_final=[]\n",
    "while aim_point22 not in road_final:\n",
    "    try:\n",
    "        if len(road22)>500:\n",
    "            print('no way')\n",
    "            break\n",
    "        if aim_point22 not in grid_coverd_int:\n",
    "            print('aim_point22 not in grid_coverd_int')\n",
    "            break\n",
    "        # 用于记录所有可能路径的最后一位\n",
    "        road_final=[]\n",
    "        # i表示保存的一条可能路径\n",
    "        for i in road22:\n",
    "            # print('i='+str(i))\n",
    "            # 找出这条路径的最后一位，找出最后一位的所有可能下一位\n",
    "            for j in grid_cross[i[-1]]:\n",
    "                # print('j='+str(j))\n",
    "                k=i.copy()\n",
    "                if (j not in k) and (j not in road_final) and (j in grid_coverd_int):\n",
    "                    k.append(j)\n",
    "                    road22.append(k)\n",
    "                    road_final.append(j)\n",
    "        pass\n",
    "    except:\n",
    "        print('break')\n",
    "        break\n",
    "if aim_point22 in grid_coverd_int:\n",
    "    # print(road22)\n",
    "    road_possible=[]\n",
    "    road_length=[]\n",
    "    for r in road22:\n",
    "        if r[-1]==aim_point22:\n",
    "            road_possible.append(r)\n",
    "            road_length.append(len(r))\n",
    "    # 找出possible_road中的最短路径\n",
    "    # 找出最短路径\n",
    "    road_final=road_possible[road_length.index(min(road_length))]\n",
    "    print(road_final)"
   ]
  },
  {
   "cell_type": "code",
   "execution_count": 109,
   "metadata": {},
   "outputs": [],
   "source": [
    "def find_road(aim_point22, grid_coverd_int):\n",
    "    road22=[[0]]\n",
    "    road_final=[]\n",
    "    while aim_point22 not in road_final:\n",
    "        try:\n",
    "            if len(road22)>1000:\n",
    "                print('no way')\n",
    "                return 0\n",
    "            if aim_point22 not in grid_coverd_int:\n",
    "                print('aim_point22 not in grid_coverd_int')\n",
    "                return 0\n",
    "            # 用于记录所有可能路径的最后一位\n",
    "            road_final=[]\n",
    "            # i表示保存的一条可能路径\n",
    "            for i in road22:\n",
    "                # print('i='+str(i))\n",
    "                # 找出这条路径的最后一位，找出最后一位的所有可能下一位\n",
    "                for j in grid_cross[i[-1]]:\n",
    "                    # print('j='+str(j))\n",
    "                    k=i.copy()\n",
    "                    if (j not in k) and (j not in road_final) and (j in grid_coverd_int):\n",
    "                        k.append(j)\n",
    "                        road22.append(k)\n",
    "                        road_final.append(j)\n",
    "        except:\n",
    "            print('break')\n",
    "            return 0\n",
    "    # print(road22)\n",
    "    road_possible=[]\n",
    "    road_length=[]\n",
    "    for r in road22:\n",
    "        if r[-1]==aim_point22:\n",
    "            road_possible.append(r)\n",
    "            road_length.append(len(r))\n",
    "    # 找出possible_road中的最短路径\n",
    "    # 找出最短路径\n",
    "    road_final=road_possible[road_length.index(min(road_length))]\n",
    "    return road_final"
   ]
  },
  {
   "cell_type": "code",
   "execution_count": 115,
   "metadata": {},
   "outputs": [
    {
     "name": "stdout",
     "output_type": "stream",
     "text": [
      "[0, 1, 2, 3, 7]\n"
     ]
    }
   ],
   "source": [
    "grid_cross=[[1,4],[2,5,0],[3,6,1],[7,2],[5,8,0],[6,9,4,1],[7,10,5,2],[11,6,3],[9,12,4],[10,13,8,5],[11,14,9,6],[15,10,7],[13,8],[14,12,9],[15,13,10],[14,11]]\n",
    "grid_coverd_int=[0,1,2,3,4,5,6,7,8,9,10,12,13,15]\n",
    "print(find_road(7, grid_coverd_int))"
   ]
  },
  {
   "cell_type": "code",
   "execution_count": null,
   "metadata": {},
   "outputs": [],
   "source": []
  }
 ],
 "metadata": {
  "kernelspec": {
   "display_name": "Python 3",
   "language": "python",
   "name": "python3"
  },
  "language_info": {
   "codemirror_mode": {
    "name": "ipython",
    "version": 3
   },
   "file_extension": ".py",
   "mimetype": "text/x-python",
   "name": "python",
   "nbconvert_exporter": "python",
   "pygments_lexer": "ipython3",
   "version": "3.9.18"
  }
 },
 "nbformat": 4,
 "nbformat_minor": 2
}
