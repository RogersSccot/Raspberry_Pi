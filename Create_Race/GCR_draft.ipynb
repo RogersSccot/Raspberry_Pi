{
 "cells": [
  {
   "cell_type": "code",
   "execution_count": 2,
   "metadata": {},
   "outputs": [],
   "source": [
    "# 在linux上面运行\n",
    "import numpy as np\n",
    "import cv2\n",
    "import math\n",
    "import matplotlib\n",
    "import serial\n",
    "import time\n",
    "from Vision_Net import FastestDet\n",
    "from matplotlib import pyplot as plt\n",
    "\n",
    "#   git config --global user.email \"rogrtssccot@gmail.com\"\n",
    "#   git config --global user.name \"rogrtssccot\""
   ]
  },
  {
   "cell_type": "code",
   "execution_count": 2,
   "metadata": {},
   "outputs": [],
   "source": [
    "\n",
    "# 获取并处理图像\n",
    "def get_image():\n",
    "    # 开全局变量处理，分理处红绿蓝\n",
    "    global image, image_red, image_green, image_blue\n",
    "    # 从摄像头获取图像\n",
    "    image=cv2.imread('try.jpg')\n",
    "    image_red=image[:,:,2].astype(np.float32)\n",
    "    image_green=image[:,:,1].astype(np.float32)\n",
    "    image_blue=image[:,:,0].astype(np.float32)\n",
    "    #cv2.imshow('image',image)\n",
    "    #cv2.waitKey(1)\n",
    "\n",
    "# 突出图像中的红色目标\n",
    "def get_red():\n",
    "    global image, image_red, image_green, image_blue\n",
    "    image_red_only=image_red*2-image_blue-image_green\n",
    "    image_red_only[image_red_only<0]=0\n",
    "    return image_red_only\n",
    "\n",
    "# 突出图像中的绿色目标\n",
    "def get_green():\n",
    "    global image, image_red, image_green, image_blue\n",
    "    image_green_only=image_green*2-image_blue-image_red\n",
    "    image_green_only[image_green_only<0]=0\n",
    "    return image_green_only\n",
    "\n",
    "# 突出图像中的蓝色目标\n",
    "def get_blue():\n",
    "    global image, image_red, image_green, image_blue\n",
    "    image_blue_only=image_blue*2-image_blue-image_red\n",
    "    image_blue_only[image_blue_only<0]=0\n",
    "    return image_blue_only\n",
    "\n",
    "# 突出目标颜色\n",
    "def find_aim_color(aim_color):\n",
    "    if aim_color == 'R':\n",
    "        return get_red()\n",
    "    if aim_color == 'G':\n",
    "        return get_green()\n",
    "    if aim_color == 'B':\n",
    "        return get_blue()\n",
    "    else:\n",
    "        return get_blue()\n",
    "\n",
    "# 展示图片\n",
    "def show_image(image):\n",
    "    image_show=image.astype(np.uint8)\n",
    "    plt.imshow(image_show, cmap='gray')\n",
    "    plt.axis('off')  # 不显示坐标轴\n",
    "    plt.show()"
   ]
  },
  {
   "cell_type": "code",
   "execution_count": 3,
   "metadata": {},
   "outputs": [],
   "source": [
    "get_image()"
   ]
  },
  {
   "cell_type": "code",
   "execution_count": null,
   "metadata": {},
   "outputs": [],
   "source": [
    "photo=find_aim_color('G')\n",
    "photo=(photo/np.max(photo))*255\n",
    "show_image(photo)"
   ]
  },
  {
   "cell_type": "code",
   "execution_count": 5,
   "metadata": {},
   "outputs": [],
   "source": [
    "from pyzbar import pyzbar\n",
    "def decode_qr_code(QR_img):\n",
    "    \"\"\"\n",
    "    识别二维码，对二维码进行编译，返回值\n",
    "    :param code_img_path: 二维码的保存地址\n",
    "    :return: 二维码的编译结果\n",
    "    \"\"\"\n",
    "    return pyzbar.decode(QR_img, symbols=[pyzbar.ZBarSymbol.QRCODE])"
   ]
  },
  {
   "cell_type": "code",
   "execution_count": 26,
   "metadata": {},
   "outputs": [
    {
     "name": "stdout",
     "output_type": "stream",
     "text": [
      "2、正在解码：\n",
      "解码结果是：\n",
      "213+231\n"
     ]
    }
   ],
   "source": [
    "img=cv2.imread('C:\\Parallel_World\\BaiduSyncdisk\\My_World\\Software_World\\Python\\Raspberry_Pi\\Create_Race\\\\213+231_phone.jpg')\n",
    "results = decode_qr_code(img)\n",
    "print(\"2、正在解码：\")\n",
    "if len(results):\n",
    "    print(\"解码结果是：\")\n",
    "    print(results[0].data.decode(\"utf-8\"))\n",
    "else:\n",
    "    print(\"无法识别\")"
   ]
  },
  {
   "cell_type": "code",
   "execution_count": 28,
   "metadata": {},
   "outputs": [
    {
     "name": "stdout",
     "output_type": "stream",
     "text": [
      "213 231\n"
     ]
    }
   ],
   "source": [
    "results=results[0].data.decode(\"utf-8\")\n",
    "QR1,QR2=results.split('+')\n",
    "print(QR1,QR2)"
   ]
  },
  {
   "cell_type": "code",
   "execution_count": null,
   "metadata": {},
   "outputs": [],
   "source": [
    "\"\"\"\n",
    "生成二维码保存及对二维码解码输出\n",
    "运行需要安装相应库\n",
    "\"\"\"\n",
    "import os\n",
    "import qrcode\n",
    "from PIL import Image\n",
    "from pyzbar import pyzbar\n",
    "\n",
    "\n",
    "def createQRCode1(content, save_path=None):\n",
    "    \"\"\"\n",
    "    创建二维码图片，并保存\n",
    "    :param content:二维码文本信息\n",
    "    :param save_path:二维码保存地址\n",
    "    :return:\n",
    "    \"\"\"\n",
    "\n",
    "    qr = qrcode.QRCode(version=5, error_correction=qrcode.constants.ERROR_CORRECT_M, box_size=8, border=4)\n",
    "    qr.add_data(data=content)\n",
    "    qr.make(fit=True)\n",
    "    img = qr.make_image(fill_color=\"black\", back_color=\"white\")\n",
    "    if save_path:\n",
    "        img.save(save_path)\n",
    "    else:\n",
    "        img.show()\n",
    "\n",
    "\n",
    "def createQRCode2(content, icon_path, save_path=None):\n",
    "    \"\"\"\n",
    "    创建带中心图片的二维码，并保存\n",
    "    :param content: 二维码文本信息\n",
    "    :param icon_path: 中心图片地址\n",
    "    :param save_path: 二维码保存地址\n",
    "    :return: 无返回值\n",
    "    \"\"\"\n",
    "\n",
    "    # 判断中心图片是否存在\n",
    "    if not os.path.exists(icon_path):\n",
    "        raise FileExistsError(icon_path)\n",
    "\n",
    "    # 创建二维码图片\n",
    "    qr = qrcode.QRCode(version=5, error_correction=qrcode.constants.ERROR_CORRECT_H, box_size=8, border=4)\n",
    "    qr.add_data(data=content)\n",
    "    qr.make(fit=True)\n",
    "    img = qr.make_image(fill_color=\"black\", back_color=\"white\").convert('RGBA')\n",
    "\n",
    "    # 调整二维码图片\n",
    "    icon_img = Image.open(icon_path)\n",
    "    code_width, code_height = img.size\n",
    "    icon_img = icon_img.resize(\n",
    "        (code_width // 4, code_height // 4), Image.ANTIALIAS)\n",
    "\n",
    "    img.paste(icon_img, (code_width * 3 // 8, code_width * 3 // 8))\n",
    "\n",
    "    if save_path:\n",
    "        img.save(save_path)  # 保存二维码图片\n",
    "        img.show()  # 显示二维码图片\n",
    "    else:\n",
    "        print(\"save error!\")\n",
    "\n",
    "\n",
    "def decode_qr_code(code_img_path):\n",
    "    \"\"\"\n",
    "    识别二维码，对二维码进行编译，返回值\n",
    "    :param code_img_path: 二维码的保存地址\n",
    "    :return: 二维码的编译结果\n",
    "    \"\"\"\n",
    "    if not os.path.exists(code_img_path):\n",
    "        raise FileExistsError(code_img_path)\n",
    "\n",
    "    return pyzbar.decode(Image.open(code_img_path), symbols=[pyzbar.ZBarSymbol.QRCODE])\n",
    "\n",
    "\n",
    "if __name__ == \"__main__\":\n",
    "    print(\"============QRcodetest===============\")\n",
    "    print(\"         1、Make a QRcode            \")\n",
    "    print(\"         2、Scan a QRcode            \")\n",
    "    print(\"=====================================\")\n",
    "    print(\"1、请输入二维码存储信息：\")\n",
    "    code_Data = input('>>:').strip()\n",
    "    print(\"正在编码·······\")\n",
    "\n",
    "    # createQRCode2(code_Data, \"img/QRcenter.jpg\", \"qrcode.png\")  # 内容，center图片，生成二维码图片\n",
    "    createQRCode1(code_Data, \"qrcode.png\")\n",
    "    print(\"图片已保存，名称为：qrcode.png\")\n",
    "    results = decode_qr_code(\"qrcode.png\")\n",
    "    print(\"2、正在解码：\")\n",
    "    if len(results):\n",
    "        print(\"解码结果是：\")\n",
    "        print(results[0].data.decode(\"utf-8\"))\n",
    "    else:\n",
    "        print(\"无法识别\")\n"
   ]
  },
  {
   "cell_type": "code",
   "execution_count": 30,
   "metadata": {},
   "outputs": [
    {
     "data": {
      "text/plain": [
       "'3'"
      ]
     },
     "execution_count": 30,
     "metadata": {},
     "output_type": "execute_result"
    }
   ],
   "source": [
    "PBL='LWLQ1'\n",
    "PBL[0:4]=='LWLQ'\n",
    "i=2\n",
    "str(i+1)"
   ]
  },
  {
   "cell_type": "code",
   "execution_count": 34,
   "metadata": {},
   "outputs": [
    {
     "name": "stdout",
     "output_type": "stream",
     "text": [
      "斜率: 2.2, 截距: -1.0000000000000042\n"
     ]
    }
   ],
   "source": [
    "import numpy as np  \n",
    "  \n",
    "# 假设你有以下坐标点  \n",
    "x = np.array([1, 2, 3, 4, 5])  \n",
    "y = np.array([2, 3, 5, 7, 11])  \n",
    "\n",
    "xy=[(1,2),(2,3),(3,5),(4,7),(5,11)]\n",
    "\n",
    "# 使用numpy的polyfit计算线性回归，1表示多项式的度数为1（即线性）  \n",
    "coefficients = np.polyfit(x, y, 1)\n",
    "  \n",
    "# coefficients中的第一个元素是斜率，第二个元素是截距  \n",
    "slope = coefficients[0]  \n",
    "intercept = coefficients[1]  \n",
    "  \n",
    "print(f\"斜率: {slope}, 截距: {intercept}\")"
   ]
  },
  {
   "cell_type": "code",
   "execution_count": 39,
   "metadata": {},
   "outputs": [
    {
     "data": {
      "text/plain": [
       "'K-330X+023Y-013'"
      ]
     },
     "execution_count": 39,
     "metadata": {},
     "output_type": "execute_result"
    }
   ],
   "source": [
    "def order_deal(order_temp):\n",
    "    order_temp=min(max(-999,order_temp),999)\n",
    "    if order_temp>=0:\n",
    "        error='+'+str(int(int(order_temp)%1000/100))+str(int(int(order_temp)%100/10))+str(int(order_temp)%10)\n",
    "    if order_temp<0:\n",
    "        error='-'+str(int(int((-order_temp))%1000/100))+str(int(int((-order_temp))%100/10))+str(int((-order_temp))%10)\n",
    "    return error\n",
    "\n",
    "X_CJQ,Y_CJQ,K_CJG=23,-13.1,-330\n",
    "'K'+order_deal(K_CJG)+'X'+order_deal(X_CJQ)+'Y'+order_deal(Y_CJQ)"
   ]
  },
  {
   "cell_type": "code",
   "execution_count": null,
   "metadata": {},
   "outputs": [],
   "source": []
  }
 ],
 "metadata": {
  "kernelspec": {
   "display_name": "Python 3",
   "language": "python",
   "name": "python3"
  },
  "language_info": {
   "codemirror_mode": {
    "name": "ipython",
    "version": 3
   },
   "file_extension": ".py",
   "mimetype": "text/x-python",
   "name": "python",
   "nbconvert_exporter": "python",
   "pygments_lexer": "ipython3",
   "version": "3.9.18"
  }
 },
 "nbformat": 4,
 "nbformat_minor": 2
}
