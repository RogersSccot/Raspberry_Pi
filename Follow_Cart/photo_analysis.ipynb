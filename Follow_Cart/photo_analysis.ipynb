{
 "cells": [
  {
   "cell_type": "code",
   "execution_count": null,
   "metadata": {},
   "outputs": [],
   "source": [
    "import cv2\n",
    "import numpy as np\n",
    "import serial\n",
    "import numpy as np\n",
    "import time"
   ]
  },
  {
   "cell_type": "code",
   "execution_count": null,
   "metadata": {},
   "outputs": [],
   "source": [
    "# 这一步用于识别黑色条纹的位置，计算误差后传给stm32\n",
    "def get_road_error(line):\n",
    "    # 100:540\n",
    "    d=np.argwhere(line[70:170,100:540] < 250)\n",
    "    dis=np.mean(d,axis=0)-220\n",
    "    k=dis[1]\n",
    "    k=min(max(-9000,k),9000)\n",
    "    x=0.8\n",
    "    if k>=0:\n",
    "        error='E'+'-'+str(int(int(k**(x))%1000/100))+str(int(int(k**(x))%100/10))+str(int(k**(x))%10)\n",
    "    if k<0:\n",
    "        error='E'+'+'+str(int(int((-k)**(x))%1000/100))+str(int(int((-k)**(x))%100/10))+str(int((-k)**(x))%10)\n",
    "    print(error)\n",
    "    return error,k\n",
    "\n",
    "# 对图片进行分割操作, 分别返回黑色与红色的图片\n",
    "def photo_process(cap):\n",
    "    _,image=cap.read()\n",
    "    red=np.abs(image[:,:,2].astype(np.float32)-0.5*(image[:,:,0].astype(np.float32)+image[:,:,1].astype(np.float32)))\n",
    "    black = cv2.cvtColor(image, cv2.COLOR_BGR2GRAY)\n",
    "    # black = cv2.Canny(black, 240, 200)\n",
    "    # 对红色图片进行二值化，阈值为30\n",
    "    _, red = cv2.threshold(red, 45, 255, cv2.THRESH_BINARY)\n",
    "    _, black= cv2.threshold(black, 100, 255, cv2.THRESH_BINARY)\n",
    "    return red, black\n",
    "\n",
    "# 1.测试路口弯道识别\n",
    "# 在路口识别分支，有分支为0，正常为1\n",
    "def get_cross(road):\n",
    "    if np.sum(road[:,0:250] > 250)>300:\n",
    "        return 0\n",
    "    else:\n",
    "        return 1\n",
    "\n",
    "# 2.测试停车标志识别\n",
    "# 监测停止标志, 有为0，没有为1\n",
    "def get_stop(road):\n",
    "    if (np.sum(road[:,0:250] > 250)>100)&(np.sum(road[:,389:639] > 250)>100):\n",
    "        return 0\n",
    "    else:\n",
    "        return 1\n",
    "\n",
    "# 3.测试车辆识别\n",
    "# 看前面有没有2车，有为1，没有为0\n",
    "def see_car2(red):\n",
    "    if np.sum(red[0:240,200:439] > 250)>200:\n",
    "        return 1\n",
    "    else:\n",
    "        return 0"
   ]
  },
  {
   "cell_type": "code",
   "execution_count": null,
   "metadata": {},
   "outputs": [],
   "source": [
    "cap1=cv2.VideoCapture(1)\n",
    "# cap2=cv2.VideoCapture(2)"
   ]
  },
  {
   "cell_type": "code",
   "execution_count": null,
   "metadata": {},
   "outputs": [],
   "source": [
    "line=cv2.imread('outcornor.jpg')\n",
    "line_grey=cv2.cvtColor(line, cv2.COLOR_BGR2GRAY)\n",
    "_, line_grey= cv2.threshold(line_grey, 100, 255, cv2.THRESH_BINARY)\n",
    "# 200 440\n",
    "d=np.argwhere(line_grey[70:170,100:540] < 250)\n",
    "dis=np.mean(d,axis=0)-220\n",
    "k=dis[1]\n",
    "k=min(max(-10000,k),10000)\n",
    "x=0.8\n",
    "if k>=0:\n",
    "    error='E'+'-'+str(int(int(k**(x))%1000/100))+str(int(int(k**(x))%100/10))+str(int(k**(x))%10)\n",
    "if k<0:\n",
    "    error='E'+'+'+str(int(int((-k)**(x))%1000/100))+str(int(int((-k)**(x))%100/10))+str(int((-k)**(x))%10)\n",
    "print(error)"
   ]
  },
  {
   "cell_type": "code",
   "execution_count": null,
   "metadata": {},
   "outputs": [],
   "source": [
    "np.mean(d,axis=0)"
   ]
  },
  {
   "cell_type": "code",
   "execution_count": null,
   "metadata": {},
   "outputs": [],
   "source": [
    "while True:\n",
    "    _,image=cap1.read()\n",
    "    red, black = photo_process(cap1)\n",
    "    get_road_error(black)\n",
    "    cv2.imshow('black',black)\n",
    "    cv2.imshow('image',image)\n",
    "    cv2.waitKey(1)"
   ]
  },
  {
   "cell_type": "code",
   "execution_count": null,
   "metadata": {},
   "outputs": [],
   "source": []
  }
 ],
 "metadata": {
  "kernelspec": {
   "display_name": "Python 3",
   "language": "python",
   "name": "python3"
  },
  "language_info": {
   "codemirror_mode": {
    "name": "ipython",
    "version": 3
   },
   "file_extension": ".py",
   "mimetype": "text/x-python",
   "name": "python",
   "nbconvert_exporter": "python",
   "pygments_lexer": "ipython3",
   "version": "3.9.18"
  }
 },
 "nbformat": 4,
 "nbformat_minor": 0
}
