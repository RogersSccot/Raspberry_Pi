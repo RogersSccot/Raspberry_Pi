{
 "cells": [
  {
   "cell_type": "code",
   "execution_count": 16,
   "metadata": {
    "collapsed": false,
    "pycharm": {
     "name": "#%%\n"
    }
   },
   "outputs": [],
   "source": [
    "import cv2\n",
    "import numpy as np\n",
    "import serial\n",
    "import time\n",
    "\n",
    "# 打开摄像机和端口，不轻易运行\n",
    "# cap=cv2.VideoCapture(0)\n",
    "# ser_stm32 = serial.Serial('/dev/ttyAMA0', 921600)\n",
    "# ser_car2 = serial.Serial('/dev/ttyAMA3', 9600)\n",
    "\n",
    "# 定义广义常亮\n",
    "stop='V+000'\n",
    "red_light_on='OKOK'\n",
    "red_light_off='OFFF'\n",
    "yellow_light_on='GOOD'\n",
    "yellow_light_off='NONO'\n",
    "\n",
    "# 在判断好数字后将决定前进的方向，输入为G±nn，L±nn，R±nn，到达终点后，发送OKOK\n",
    "def send_order(order,ser):\n",
    "    print(order)\n",
    "    encoded_data = order.encode()\n",
    "    ser.write(encoded_data)\n",
    "\n",
    "# 发送命令给stm32\n",
    "def send_stm32(order):\n",
    "    send_order(order,ser_stm32)\n",
    "\n",
    "# 发送命令给车2\n",
    "def send_car2(order):\n",
    "    send_order(order,ser_car2)\n",
    "\n",
    "# 获得stm32的信号\n",
    "def get_stm32():\n",
    "    hex_data = ser_stm32.read(1)\n",
    "    return hex_data\n",
    "\n",
    "# 获取2车信号\n",
    "def get_car2():\n",
    "    hex_data = ser_car2.read(1)\n",
    "    return hex_data\n",
    "\n",
    "# 这一步用于识别黑色条纹的位置，计算误差后传给stm32\n",
    "def get_road_error(road):\n",
    "    d=np.argwhere(road[[450,350,250],:] > 250)\n",
    "    dis=np.mean(d,axis=0)-320\n",
    "    k=dis[1]\n",
    "    k=k*20\n",
    "    error='E+000'\n",
    "    k=min(max(-10000,k),10000)\n",
    "    x=0.8\n",
    "    if k>=0:\n",
    "        error='E'+'-'+str(int(int(k**(x))%1000/100))+str(int(int(k**(x))%100/10))+str(int(k**(x))%10)\n",
    "    if k<0:\n",
    "        error='E'+'+'+str(int(int((-k)**(x))%1000/100))+str(int(int((-k)**(x))%100/10))+str(int((-k)**(x))%10)\n",
    "    # print(error)\n",
    "    return error,k\n",
    "\n",
    "# 对图片进行分割操作, 分别返回黑色与红色的图片\n",
    "def photo_process(cap):\n",
    "    _,image=cap.read()d=np.abs(image[:,:,2].astype(np.float32)-0.5*(image[:,:,0].astype(np.float32)+image[:,:,1].astype(np.float32)))\n",
    "    black=np.abs((image[:,:,2].astype(np.float32)+image[:,:,0].astype(np.float32)+image[:,:,1].astype(np.float32))/3)\n",
    "    # 对红色图片进行二值化，阈值为30\n",
    "    _, red = cv2.threshold(red, 45, 255, cv2.THRESH_BINARY)\n",
    "    _, black= cv2.threshold(black, 60, 255, cv2.THRESH_BINARY)\n",
    "    return red, black\n",
    "\n",
    "# 依据前方状态直行\n",
    "def car_go_straight(road):\n",
    "    error,_=get_road_error(road)\n",
    "    #send_order(error,ser_stm32)\n",
    "\n",
    "# 立即停止\n",
    "def car_stop():\n",
    "    time.sleep(0.1)\n",
    "    send_order(stop,ser_stm32)\n",
    "    time.sleep(0.1)\n",
    "\n",
    "# 题目1速度0.3m/s\n",
    "go1_low='V+28'\n",
    "go1_high='V+32'\n",
    "see_car2_last=0\n",
    "# 依据前方状态直行，并调整速度\n",
    "def car_go_straight_adjust(red, black, see_car2_last):\n",
    "    error,_=get_road_error(black)\n",
    "    send_order(error,ser_stm32)\n",
    "    if (see_car2(red)==1)&(see_car2_last==0):\n",
    "        send_car2(go1_low)\n",
    "        see_car2_last=1\n",
    "    if (see_car2(red)==0)&(see_car2_last==1):\n",
    "        send_car2(go1_high)\n",
    "        see_car2_last=0\n",
    "    return see_car2_last\n",
    "\n",
    "# 车往前冲\n",
    "def car_rush():\n",
    "    for i in range(10):\n",
    "        send_stm32('E+000')\n",
    "\n",
    "# 车转弯\n",
    "def car_turn():\n",
    "    for i in range(10):\n",
    "        send_stm32('E+030')"
   ]
  },
  {
   "cell_type": "code",
   "execution_count": 2,
   "metadata": {
    "collapsed": false,
    "pycharm": {
     "name": "#%%\n"
    }
   },
   "outputs": [],
   "source": [
    "# 1.测试路口弯道识别\n",
    "# 在路口识别分支，有分支为0，正常为1\n",
    "\n",
    "def get_cross(road):\n",
    "    if np.sum(road[:,0:250] > 250)>300:\n",
    "        return 0\n",
    "    else:\n",
    "        return 1\n",
    "\n",
    "# 2.测试停车标志识别\n",
    "# 监测停止标志, 有为0，没有为1\n",
    "def get_stop(road):\n",
    "    if (np.sum(road[:,0:250] > 250)>100)&(np.sum(road[:,389:639] > 250)>100):\n",
    "        return 0\n",
    "    else:\n",
    "        return 1\n",
    "\n",
    "# 3.测试车辆识别\n",
    "# 看前面有没有2车，有为1，没有为0\n",
    "def see_car2(red):\n",
    "    if np.sum(red[0:240,200:439] > 250)>200:\n",
    "        return 1\n",
    "    else:\n",
    "        return 0"
   ]
  },
  {
   "cell_type": "code",
   "execution_count": 3,
   "metadata": {
    "collapsed": false,
    "pycharm": {
     "name": "#%%\n"
    }
   },
   "outputs": [],
   "source": [
    "cap1=cv2.VideoCapture(1)\n",
    "# cap2=cv2.VideoCapture(2)"
   ]
  },
  {
   "cell_type": "code",
   "execution_count": null,
   "metadata": {
    "collapsed": false,
    "pycharm": {
     "name": "#%%\n"
    }
   },
   "outputs": [],
   "source": [
    "while True:\n",
    "    _, image1=cap1.read()\n",
    "    # _, image2=cap2.read()\n",
    "    cv2.imshow('image1',image1)\n",
    "    # cv2.imshow('image2',image2)\n",
    "    red1, black1 = photo_process(cap1)\n",
    "    # red2, black2 = photo_process(cap2)\n",
    "    cv2.imshow('black1',black1)\n",
    "    cv2.imshow('red1',red1)\n",
    "    cv2.waitKey(1)\n",
    "    # print('1车是否看到弯道   ：'+str(np.sum(black1[:,0:250] < 250)))\n",
    "    # print('2车是否看到弯道   ：'+str(get_cross(black2)))\n",
    "    # print('1车是否看到停车   ：'+str(get_stop(black1)))\n",
    "    # print('2车是否看到停车   ：'+str(get_stop(black2)))\n",
    "    # print('1车是否看到车2    ：'+str(see_car2(red1)))\n",
    "    # print('2车是否看到车1    ：'+str(see_car2(red2)))\n",
    "    red, black=photo_process(cap1)\n",
    "    car_go_straight(black)\n",
    "    #time.sleep(0.1)"
   ]
  },
  {
   "cell_type": "code",
   "execution_count": null,
   "metadata": {
    "collapsed": false,
    "pycharm": {
     "name": "#%%\n"
    }
   },
   "outputs": [],
   "source": []
  }
 ],
 "metadata": {
  "kernelspec": {
   "display_name": "Python 3",
   "language": "python",
   "name": "python3"
  },
  "language_info": {
   "codemirror_mode": {
    "name": "ipython",
    "version": 3
   },
   "file_extension": ".py",
   "mimetype": "text/x-python",
   "name": "python",
   "nbconvert_exporter": "python",
   "pygments_lexer": "ipython3",
   "version": "3.9.18"
  }
 },
 "nbformat": 4,
 "nbformat_minor": 0
}
