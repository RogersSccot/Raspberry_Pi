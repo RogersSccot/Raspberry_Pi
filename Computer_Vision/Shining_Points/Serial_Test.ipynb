{
 "cells": [
  {
   "cell_type": "code",
   "execution_count": 1,
   "metadata": {},
   "outputs": [],
   "source": [
    "# 导入必要的函数库\n",
    "import cv2\n",
    "import numpy as np\n",
    "import math\n",
    "import matplotlib.pyplot as plt\n",
    "import serial\n",
    "from PIL import Image\n",
    "import pylab as pl\n",
    "from scipy import ndimage\n",
    "import scipy.ndimage\n",
    "import threading\n",
    "import time\n",
    "from matplotlib.patches import Polygon"
   ]
  },
  {
   "cell_type": "code",
   "execution_count": null,
   "metadata": {},
   "outputs": [],
   "source": [
    "ser_32 = serial.Serial('/dev/ttyAMA0', 921600)\n",
    "ser_screen=serial.Serial('/dev/ttyAMA3', 115200)"
   ]
  },
  {
   "cell_type": "code",
   "execution_count": null,
   "metadata": {},
   "outputs": [],
   "source": [
    "# 发送命令，通用函数\n",
    "def send_order(order, ser):\n",
    "    print('order='+order)\n",
    "    encoded_order = order.encode()\n",
    "    ser.write(encoded_order)"
   ]
  },
  {
   "cell_type": "code",
   "execution_count": null,
   "metadata": {},
   "outputs": [],
   "source": [
    "# 获取消息，通用函数\n",
    "def get_mail(ser):\n",
    "    encoded_mail = ser.read(1)\n",
    "    print('mail='+encoded_mail)"
   ]
  },
  {
   "cell_type": "code",
   "execution_count": null,
   "metadata": {},
   "outputs": [],
   "source": [
    "# 开启单独进程，获取蓝牙信号\n",
    "def get_PBL():\n",
    "    global PBL\n",
    "    print('读取题目信息')\n",
    "    while True:\n",
    "        PBL = ser_screen.read(1)\n",
    "        print('PBL ='+str(PBL))\n",
    "\n",
    "get_PBL_threading = threading.Thread(target=get_PBL)\n",
    "get_PBL_threading.start()"
   ]
  },
  {
   "cell_type": "code",
   "execution_count": null,
   "metadata": {},
   "outputs": [],
   "source": []
  }
 ],
 "metadata": {
  "kernelspec": {
   "display_name": "Python 3",
   "language": "python",
   "name": "python3"
  },
  "language_info": {
   "codemirror_mode": {
    "name": "ipython",
    "version": 3
   },
   "file_extension": ".py",
   "mimetype": "text/x-python",
   "name": "python",
   "nbconvert_exporter": "python",
   "pygments_lexer": "ipython3",
   "version": "3.9.18"
  }
 },
 "nbformat": 4,
 "nbformat_minor": 2
}
