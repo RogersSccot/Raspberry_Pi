{
 "cells": [
  {
   "cell_type": "code",
   "execution_count": null,
   "metadata": {},
   "outputs": [],
   "source": [
    "# 导入必要的函数库\n",
    "import cv2\n",
    "import numpy as np\n",
    "import math\n",
    "import matplotlib.pyplot as plt\n",
    "import serial\n",
    "from PIL import Image\n",
    "import pylab as pl\n",
    "from scipy import ndimage\n",
    "import scipy.ndimage\n",
    "import threading\n",
    "import time\n",
    "from matplotlib.patches import Polygon"
   ]
  },
  {
   "cell_type": "code",
   "execution_count": null,
   "metadata": {},
   "outputs": [],
   "source": [
    "# 打开摄像头，占用内存大，不轻易运行\n",
    "capture=cv2.VideoCapture(0)"
   ]
  },
  {
   "cell_type": "code",
   "execution_count": null,
   "metadata": {},
   "outputs": [],
   "source": [
    "# 获取并处理图像\n",
    "def get_image():\n",
    "    while True:\n",
    "        # 开全局变量处理，分理处红绿蓝\n",
    "        global image, image_red, image_green, image_blue\n",
    "        # 从摄像头获取图像\n",
    "        _,image=capture.read()\n",
    "        image_red=image[:,:,2].astype(np.float32)\n",
    "        image_green=image[:,:,1].astype(np.float32)\n",
    "        image_blue=image[:,:,0].astype(np.float32)\n",
    "        #cv2.imshow('image',image)\n",
    "        #cv2.waitKey(1)\n",
    "\n",
    "# 获取图像单独开进程\n",
    "get_image_threading = threading.Thread(target=get_image)\n",
    "get_image_threading.start()"
   ]
  },
  {
   "cell_type": "code",
   "execution_count": null,
   "metadata": {},
   "outputs": [],
   "source": [
    "# 拍照，保存一张照片\n",
    "def take_photo(photo_name):\n",
    "    global capture\n",
    "    photo_name=photo_name+'.jpg'\n",
    "    _,image=capture.read()\n",
    "    cv2.imwrite(photo_name,image)\n",
    "    print('take photo success')"
   ]
  },
  {
   "cell_type": "code",
   "execution_count": null,
   "metadata": {},
   "outputs": [],
   "source": [
    "# 保存一张图片\n",
    "def take_photo(photo_name, photo):\n",
    "    photo=photo.astype(np.uint8)\n",
    "    photo_name=photo_name+'.jpg'\n",
    "    cv2.imwrite(photo_name,image)\n",
    "    print('save photo success')"
   ]
  },
  {
   "cell_type": "code",
   "execution_count": null,
   "metadata": {},
   "outputs": [],
   "source": [
    "# 展示图片\n",
    "def show_image(image):\n",
    "    image_show=image.astype(np.uint8)\n",
    "    plt.imshow(image_show, cmap='gray')\n",
    "    plt.axis('off')  # 不显示坐标轴\n",
    "    plt.show()"
   ]
  },
  {
   "cell_type": "code",
   "execution_count": null,
   "metadata": {},
   "outputs": [],
   "source": [
    "# 模式匹配获取目标位置，这里都统一采用灰度图\n",
    "# 这个是目标图像\n",
    "aim_image = cv2.imread('aim.png')\n",
    "# 这个是目标图像的灰度图\n",
    "aim_gray = cv2.cvtColor(aim_image, cv2.COLOR_BGR2GRAY)\n",
    "threshold = 0.8\n",
    "def get_aim_point(aim_gray,image_gray):\n",
    "    global aim_center\n",
    "    try:\n",
    "        result = cv2.matchTemplate(image_gray, aim_gray, cv2.TM_CCOEFF_NORMED)\n",
    "        locations = np.where(result >= threshold)\n",
    "        # 转换为(x, y)坐标\n",
    "        locations = list(zip(*locations[::-1]))\n",
    "        # 转换为目标中心点坐标\n",
    "        aim_center=np.array([int(locations[0][1] + aim_image.shape[0] / 2),int(locations[0][0] + aim_image.shape[1] / 2)])\n",
    "    except:\n",
    "        aim_center=aim_center\n",
    "    return(aim_center)"
   ]
  },
  {
   "cell_type": "code",
   "execution_count": null,
   "metadata": {},
   "outputs": [],
   "source": [
    "# 突出图像中的红色目标\n",
    "def get_red():\n",
    "    global image, image_red, image_green, image_blue\n",
    "    image_red_only=image_red*2-image_blue-image_green\n",
    "    image_red_only[image_red_only<0]=0\n",
    "    return image_red_only"
   ]
  },
  {
   "cell_type": "code",
   "execution_count": null,
   "metadata": {},
   "outputs": [],
   "source": [
    "# 突出图像中的绿色目标\n",
    "def get_green():\n",
    "    global image, image_red, image_green, image_blue\n",
    "    image_green_only=image_green*2-image_blue-image_red\n",
    "    image_green_only[image_green_only<0]=0\n",
    "    return image_green_only"
   ]
  },
  {
   "cell_type": "code",
   "execution_count": null,
   "metadata": {},
   "outputs": [],
   "source": [
    "# 突出图像中的蓝色目标\n",
    "def get_blue():\n",
    "    global image, image_red, image_green, image_blue\n",
    "    image_blue_only=image_blue*2-image_blue-image_red\n",
    "    image_blue_only[image_blue_only<0]=0\n",
    "    return image_blue_only"
   ]
  },
  {
   "cell_type": "code",
   "execution_count": null,
   "metadata": {},
   "outputs": [],
   "source": [
    "# 在某一图像的指定位置添加图案\n",
    "kernel = np.array([\n",
    "[0,0,0,0,0,0,0,1,1,1,1,1,1,1,1,0,0,0,0,0,0,0],\n",
    "[0,0,0,0,0,0,1,1,1,1,1,1,1,1,1,1,0,0,0,0,0,0],\n",
    "[0,0,0,0,0,1,1,1,1,1,1,1,1,1,1,1,1,0,0,0,0,0],\n",
    "[0,0,0,0,1,1,1,1,1,1,1,1,1,1,1,1,1,1,0,0,0,0],\n",
    "[0,0,0,1,1,1,1,1,1,1,1,1,1,1,1,1,1,1,1,0,0,0],\n",
    "[0,0,1,1,1,1,1,0,0,0,0,0,0,0,0,1,1,1,1,1,0,0],\n",
    "[0,1,1,1,1,1,0,0,0,0,0,0,0,0,0,0,1,1,1,1,1,0],\n",
    "[1,1,1,1,1,0,0,0,0,0,0,0,0,0,0,0,0,1,1,1,1,1],\n",
    "[1,1,1,1,1,0,0,0,0,0,0,0,0,0,0,0,0,1,1,1,1,1],\n",
    "[1,1,1,1,1,0,0,0,0,0,0,0,0,0,0,0,0,1,1,1,1,1],\n",
    "[1,1,1,1,1,0,0,0,0,0,0,0,0,0,0,0,0,1,1,1,1,1],\n",
    "[1,1,1,1,1,0,0,0,0,0,0,0,0,0,0,0,0,1,1,1,1,1],\n",
    "[1,1,1,1,1,0,0,0,0,0,0,0,0,0,0,0,0,1,1,1,1,1],\n",
    "[1,1,1,1,1,0,0,0,0,0,0,0,0,0,0,0,0,1,1,1,1,1],\n",
    "[1,1,1,1,1,0,0,0,0,0,0,0,0,0,0,0,0,1,1,1,1,1],\n",
    "[0,1,1,1,1,1,0,0,0,0,0,0,0,0,0,0,1,1,1,1,1,0],\n",
    "[0,0,1,1,1,1,1,0,0,0,0,0,0,0,0,1,1,1,1,1,0,0],\n",
    "[0,0,0,1,1,1,1,1,1,1,1,1,1,1,1,1,1,1,1,0,0,0],\n",
    "[0,0,0,0,1,1,1,1,1,1,1,1,1,1,1,1,1,1,0,0,0,0],\n",
    "[0,0,0,0,0,1,1,1,1,1,1,1,1,1,1,1,1,0,0,0,0,0],\n",
    "[0,0,0,0,0,0,1,1,1,1,1,1,1,1,1,1,0,0,0,0,0,0],\n",
    "[0,0,0,0,0,0,0,1,1,1,1,1,1,1,1,0,0,0,0,0,0,0],\n",
    "])*255\n",
    "def draw_image(image_gray_to_draw, kernel, kernel_point):\n",
    "    try:\n",
    "        image_gray_to_draw[int(kernel_point[0]-11):int(kernel_point[0]+11),int(kernel_point[1]-11):int(kernel_point[1]+11)]=kernel\n",
    "    except:\n",
    "        pass\n",
    "    return image_gray_to_draw"
   ]
  },
  {
   "cell_type": "code",
   "execution_count": null,
   "metadata": {},
   "outputs": [],
   "source": [
    "# 图像的映射变换\n",
    "def photo_transform(ad,origin,border_point):\n",
    "    # 原先的四个角的边缘点\n",
    "    pts = np.float32([[0,0],[0,origin.shape[1]],[origin.shape[0],origin.shape[1]],[origin.shape[0],0]])\n",
    "    # 由于变换的特殊性，这里后面的点是列行，反着来的\n",
    "    border_point_1=np.zeros(np.shape(border_point))\n",
    "    border_point_1[:,0]=border_point[:,1]\n",
    "    border_point_1[:,1]=border_point[:,0]\n",
    "    pts1 = np.float32(border_point_1)\n",
    "    # 生成最为关键的变换矩阵\n",
    "    M = cv2.getPerspectiveTransform(pts,pts1)\n",
    "    # 变换正方形\n",
    "    square_trans = cv2.warpPerspective(origin,M,(ad.shape[1],ad.shape[0]))\n",
    "    square_trans = cv2.cvtColor(square_trans, cv2.COLOR_RGB2GRAY)\n",
    "    _, square_trans = cv2.threshold(square_trans, 127, 255, cv2.THRESH_BINARY)\n",
    "    return square_trans"
   ]
  },
  {
   "cell_type": "code",
   "execution_count": null,
   "metadata": {},
   "outputs": [],
   "source": [
    "# 这一步用于识别黑色条纹的位置，计算误差后传给stm32\n",
    "def get_road_error(road):\n",
    "    # 100:540\n",
    "    global error,k\n",
    "    d1=np.argwhere(road[70:100,100:540] < 250)\n",
    "    dis1=np.mean(d1,axis=0)-220\n",
    "    d2=np.argwhere(road[250:280,100:540] < 250)\n",
    "    dis2=np.mean(d2,axis=0)-220\n",
    "    d3=np.argwhere(road[400:420,100:540] < 250)\n",
    "    dis3=np.mean(d3,axis=0)-220\n",
    "    dis=0.2*dis1+0.5*dis2+0.3*dis3\n",
    "    k=dis[1]\n",
    "    k=min(max(-500,k),500)\n",
    "    if k>=0:\n",
    "        error='E'+'+'+str(int(int(k)%1000/100))+str(int(int(k)%100/10))+str(int(k)%10)\n",
    "    if k<0:\n",
    "        error='E'+'-'+str(int(int((-k))%1000/100))+str(int(int((-k))%100/10))+str(int((-k))%10)\n",
    "    return error,k"
   ]
  },
  {
   "cell_type": "code",
   "execution_count": null,
   "metadata": {},
   "outputs": [],
   "source": [
    "# 找寻线路，找出要巡迹的那一条线\n",
    "def get_road():\n",
    "    # 先得到排除其他干扰后的路线\n",
    "    road_only=get_red()\n",
    "    # 这里可能是别的颜色的线\n",
    "    road_only"
   ]
  },
  {
   "cell_type": "code",
   "execution_count": null,
   "metadata": {},
   "outputs": [],
   "source": [
    "# 测试摄像头刷新率\n",
    "def test_fps():\n",
    "    time1=time.time()\n",
    "    for i in range(100):\n",
    "        _,image=capture.read()\n",
    "        # 在此加入别视觉处理的函数\n",
    "    time2=time.time()\n",
    "    print('fps:',100/(time2-time1))"
   ]
  },
  {
   "cell_type": "code",
   "execution_count": null,
   "metadata": {},
   "outputs": [],
   "source": [
    "# ex_2cross=cv2.imread('q.jpg').astype(np.float32)\n",
    "# ex_edge=cv2.imread('t.jpg').astype(np.float32)\n",
    "# show_image(ex1)\n",
    "# show_image(ex2)\n",
    "# ex_edge_gray=cv2.cvtColor(ex_edge, cv2.COLOR_BGR2GRAY)\n",
    "# # 二极化\n",
    "# _,ex_edge_=cv2.threshold(ex_edge_gray, 70, 255, cv2.THRESH_BINARY)\n",
    "# show_image(ex_edge_gray)\n",
    "# ex_2cross_gray=cv2.cvtColor(ex_2cross, cv2.COLOR_BGR2GRAY)\n",
    "# # 二极化\n",
    "# _,ex_2cross_gray=cv2.threshold(ex_2cross_gray, 70, 255, cv2.THRESH_BINARY)\n",
    "# show_image(ex_2cross_gray)"
   ]
  }
 ],
 "metadata": {
  "kernelspec": {
   "display_name": "Python 3",
   "language": "python",
   "name": "python3"
  },
  "language_info": {
   "codemirror_mode": {
    "name": "ipython",
    "version": 3
   },
   "file_extension": ".py",
   "mimetype": "text/x-python",
   "name": "python",
   "nbconvert_exporter": "python",
   "pygments_lexer": "ipython3",
   "version": "3.9.18"
  }
 },
 "nbformat": 4,
 "nbformat_minor": 2
}
