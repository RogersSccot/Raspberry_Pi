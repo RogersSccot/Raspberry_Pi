{
 "cells": [
  {
   "cell_type": "code",
   "execution_count": null,
   "metadata": {},
   "outputs": [],
   "source": [
    "# 导入必要的函数库\n",
    "import cv2\n",
    "import numpy as np\n",
    "import math\n",
    "import matplotlib.pyplot as plt\n",
    "import serial\n",
    "from PIL import Image\n",
    "import pylab as pl\n",
    "from scipy import ndimage\n",
    "import scipy.ndimage\n",
    "import threading\n",
    "import time\n",
    "from matplotlib.patches import Polygon"
   ]
  },
  {
   "cell_type": "code",
   "execution_count": null,
   "metadata": {},
   "outputs": [],
   "source": [
    "# 打开摄像头，占用内存大，不轻易运行\n",
    "capture=cv2.VideoCapture(0)"
   ]
  },
  {
   "cell_type": "code",
   "execution_count": null,
   "metadata": {},
   "outputs": [],
   "source": [
    "# 获取并处理图像\n",
    "def get_image():\n",
    "    while True:\n",
    "        # 开全局变量处理，分理处红绿蓝\n",
    "        global image, image_red, image_green, image_blue\n",
    "        # 从摄像头获取图像\n",
    "        _,image=capture.read()\n",
    "        image_red=image[:,:,2].astype(np.float32)\n",
    "        image_green=image[:,:,1].astype(np.float32)\n",
    "        image_blue=image[:,:,0].astype(np.float32)\n",
    "        #cv2.imshow('image',image)\n",
    "        #cv2.waitKey(1)\n",
    "\n",
    "# 获取图像单独开进程\n",
    "get_image_threading = threading.Thread(target=get_image)\n",
    "get_image_threading.start()"
   ]
  },
  {
   "cell_type": "code",
   "execution_count": null,
   "metadata": {},
   "outputs": [],
   "source": [
    "# 拍照，保存一张照片\n",
    "def take_photo(photo_name):\n",
    "    global capture\n",
    "    photo_name=photo_name+'.jpg'\n",
    "    _,image=capture.read()\n",
    "    cv2.imwrite(photo_name,image)\n",
    "    print('take photo success')"
   ]
  },
  {
   "cell_type": "code",
   "execution_count": null,
   "metadata": {},
   "outputs": [],
   "source": [
    "# 保存一张图片\n",
    "def take_photo(photo_name, photo):\n",
    "    photo=photo.astype(np.uint8)\n",
    "    photo_name=photo_name+'.jpg'\n",
    "    cv2.imwrite(photo_name,image)\n",
    "    print('save photo success')"
   ]
  },
  {
   "cell_type": "code",
   "execution_count": null,
   "metadata": {},
   "outputs": [],
   "source": [
    "# 展示图片\n",
    "def show_image(image):\n",
    "    image_show=image.astype(np.uint8)\n",
    "    plt.imshow(image_show, cmap='gray')\n",
    "    plt.axis('off')  # 不显示坐标轴\n",
    "    plt.show()"
   ]
  },
  {
   "cell_type": "code",
   "execution_count": null,
   "metadata": {},
   "outputs": [],
   "source": [
    "# 模式匹配获取目标位置，这里都统一采用灰度图\n",
    "# 这个是目标图像\n",
    "aim_image = cv2.imread('aim.png')\n",
    "# 这个是目标图像的灰度图\n",
    "aim_gray = cv2.cvtColor(aim_image, cv2.COLOR_BGR2GRAY)\n",
    "threshold = 0.8\n",
    "def get_aim_point(aim_gray,image_gray):\n",
    "    global aim_center\n",
    "    try:\n",
    "        result = cv2.matchTemplate(image_gray, aim_gray, cv2.TM_CCOEFF_NORMED)\n",
    "        locations = np.where(result >= threshold)\n",
    "        # 转换为(x, y)坐标\n",
    "        locations = list(zip(*locations[::-1]))\n",
    "        # 转换为目标中心点坐标\n",
    "        aim_center=np.array([int(locations[0][1] + aim_image.shape[0] / 2),int(locations[0][0] + aim_image.shape[1] / 2)])\n",
    "    except:\n",
    "        aim_center=aim_center\n",
    "    return(aim_center)"
   ]
  },
  {
   "cell_type": "code",
   "execution_count": null,
   "metadata": {},
   "outputs": [],
   "source": [
    "# 突出图像中的红色目标\n",
    "def get_red():\n",
    "    global image, image_red, image_green, image_blue\n",
    "    image_red_only=image_red*2-image_blue-image_green\n",
    "    image_red_only[image_red_only<0]=0\n",
    "    return image_red_only"
   ]
  },
  {
   "cell_type": "code",
   "execution_count": null,
   "metadata": {},
   "outputs": [],
   "source": [
    "# 突出图像中的绿色目标\n",
    "def get_green():\n",
    "    global image, image_red, image_green, image_blue\n",
    "    image_green_only=image_green*2-image_blue-image_red\n",
    "    image_green_only[image_green_only<0]=0\n",
    "    return image_green_only"
   ]
  },
  {
   "cell_type": "code",
   "execution_count": null,
   "metadata": {},
   "outputs": [],
   "source": [
    "# 突出图像中的蓝色目标\n",
    "def get_blue():\n",
    "    global image, image_red, image_green, image_blue\n",
    "    image_blue_only=image_blue*2-image_blue-image_red\n",
    "    image_blue_only[image_blue_only<0]=0\n",
    "    return image_blue_only"
   ]
  },
  {
   "cell_type": "code",
   "execution_count": null,
   "metadata": {},
   "outputs": [],
   "source": [
    "# 在某一图像的指定位置添加图案\n",
    "kernel = np.array([\n",
    "[0,0,0,0,0,0,0,1,1,1,1,1,1,1,1,0,0,0,0,0,0,0],\n",
    "[0,0,0,0,0,0,1,1,1,1,1,1,1,1,1,1,0,0,0,0,0,0],\n",
    "[0,0,0,0,0,1,1,1,1,1,1,1,1,1,1,1,1,0,0,0,0,0],\n",
    "[0,0,0,0,1,1,1,1,1,1,1,1,1,1,1,1,1,1,0,0,0,0],\n",
    "[0,0,0,1,1,1,1,1,1,1,1,1,1,1,1,1,1,1,1,0,0,0],\n",
    "[0,0,1,1,1,1,1,0,0,0,0,0,0,0,0,1,1,1,1,1,0,0],\n",
    "[0,1,1,1,1,1,0,0,0,0,0,0,0,0,0,0,1,1,1,1,1,0],\n",
    "[1,1,1,1,1,0,0,0,0,0,0,0,0,0,0,0,0,1,1,1,1,1],\n",
    "[1,1,1,1,1,0,0,0,0,0,0,0,0,0,0,0,0,1,1,1,1,1],\n",
    "[1,1,1,1,1,0,0,0,0,0,0,0,0,0,0,0,0,1,1,1,1,1],\n",
    "[1,1,1,1,1,0,0,0,0,0,0,0,0,0,0,0,0,1,1,1,1,1],\n",
    "[1,1,1,1,1,0,0,0,0,0,0,0,0,0,0,0,0,1,1,1,1,1],\n",
    "[1,1,1,1,1,0,0,0,0,0,0,0,0,0,0,0,0,1,1,1,1,1],\n",
    "[1,1,1,1,1,0,0,0,0,0,0,0,0,0,0,0,0,1,1,1,1,1],\n",
    "[1,1,1,1,1,0,0,0,0,0,0,0,0,0,0,0,0,1,1,1,1,1],\n",
    "[0,1,1,1,1,1,0,0,0,0,0,0,0,0,0,0,1,1,1,1,1,0],\n",
    "[0,0,1,1,1,1,1,0,0,0,0,0,0,0,0,1,1,1,1,1,0,0],\n",
    "[0,0,0,1,1,1,1,1,1,1,1,1,1,1,1,1,1,1,1,0,0,0],\n",
    "[0,0,0,0,1,1,1,1,1,1,1,1,1,1,1,1,1,1,0,0,0,0],\n",
    "[0,0,0,0,0,1,1,1,1,1,1,1,1,1,1,1,1,0,0,0,0,0],\n",
    "[0,0,0,0,0,0,1,1,1,1,1,1,1,1,1,1,0,0,0,0,0,0],\n",
    "[0,0,0,0,0,0,0,1,1,1,1,1,1,1,1,0,0,0,0,0,0,0],\n",
    "])*255\n",
    "def draw_image(image_gray_to_draw, kernel, kernel_point):\n",
    "    try:\n",
    "        image_gray_to_draw[int(kernel_point[0]-11):int(kernel_point[0]+11),int(kernel_point[1]-11):int(kernel_point[1]+11)]=kernel\n",
    "    except:\n",
    "        pass\n",
    "    return image_gray_to_draw"
   ]
  },
  {
   "cell_type": "code",
   "execution_count": null,
   "metadata": {},
   "outputs": [],
   "source": [
    "# 图像的映射变换\n",
    "def photo_transform(ad,origin,border_point):\n",
    "    # 原先的四个角的边缘点\n",
    "    pts = np.float32([[0,0],[0,origin.shape[1]],[origin.shape[0],origin.shape[1]],[origin.shape[0],0]])\n",
    "    # 由于变换的特殊性，这里后面的点是列行，反着来的\n",
    "    border_point_1=np.zeros(np.shape(border_point))\n",
    "    border_point_1[:,0]=border_point[:,1]\n",
    "    border_point_1[:,1]=border_point[:,0]\n",
    "    pts1 = np.float32(border_point_1)\n",
    "    # 生成最为关键的变换矩阵\n",
    "    M = cv2.getPerspectiveTransform(pts,pts1)\n",
    "    # 变换正方形\n",
    "    square_trans = cv2.warpPerspective(origin,M,(ad.shape[1],ad.shape[0]))\n",
    "    square_trans = cv2.cvtColor(square_trans, cv2.COLOR_RGB2GRAY)\n",
    "    _, square_trans = cv2.threshold(square_trans, 127, 255, cv2.THRESH_BINARY)\n",
    "    return square_trans\n",
    "\n",
    "# 上面的那个表述不清，具体参考下面这个\n",
    "# 我们需要将我们读取到的图像映射成一个平整的图像\n",
    "# 对应原先图像的，左上，左下，右下，右上，四个点\n",
    "pts0=np.float32([[63,165],[413,116],[413,562],[53,502]])\n",
    "# 建立映射需要的一一对应\n",
    "pts1=np.float32([[pts0[0][1],pts0[0][0]],[pts0[3][1],pts0[3][0]],[pts0[2][1],pts0[2][0]],[pts0[1][1],pts0[1][0]]])\n",
    "# 对应映射后图像，左上，左下，右下，右上，四个点\n",
    "pts2=np.float32([[0,0],[968,0],[968,968],[0,968]])\n",
    "# 生成最为关键的变换矩阵\n",
    "M = cv2.getPerspectiveTransform(pts1,pts2)\n",
    "# 变换正方形\n",
    "square_trans = cv2.warpPerspective(ex1_grey,M,(grid.shape[1],grid.shape[0]))\n",
    "show_image(square_trans)"
   ]
  },
  {
   "cell_type": "code",
   "execution_count": null,
   "metadata": {},
   "outputs": [],
   "source": [
    "# 这一步用于识别黑色条纹的位置，计算误差后传给stm32\n",
    "def get_road_error(road):\n",
    "    # 100:540\n",
    "    global error,k\n",
    "    d1=np.argwhere(road[70:100,100:540] < 250)\n",
    "    dis1=np.mean(d1,axis=0)-220\n",
    "    d2=np.argwhere(road[250:280,100:540] < 250)\n",
    "    dis2=np.mean(d2,axis=0)-220\n",
    "    d3=np.argwhere(road[400:420,100:540] < 250)\n",
    "    dis3=np.mean(d3,axis=0)-220\n",
    "    dis=0.2*dis1+0.5*dis2+0.3*dis3\n",
    "    k=dis[1]\n",
    "    k=min(max(-500,k),500)\n",
    "    if k>=0:\n",
    "        error='E'+'+'+str(int(int(k)%1000/100))+str(int(int(k)%100/10))+str(int(k)%10)\n",
    "    if k<0:\n",
    "        error='E'+'-'+str(int(int((-k))%1000/100))+str(int(int((-k))%100/10))+str(int((-k))%10)\n",
    "    return error,k"
   ]
  },
  {
   "cell_type": "code",
   "execution_count": null,
   "metadata": {},
   "outputs": [],
   "source": [
    "# 找寻线路，找出要巡迹的那一条线\n",
    "def get_road():\n",
    "    # 先得到排除其他干扰后的路线\n",
    "    road_only=get_red()\n",
    "    # 这里可能是别的颜色的线\n",
    "    road_only"
   ]
  },
  {
   "cell_type": "code",
   "execution_count": null,
   "metadata": {},
   "outputs": [],
   "source": [
    "# 测试摄像头刷新率\n",
    "def test_fps():\n",
    "    time1=time.time()\n",
    "    for i in range(100):\n",
    "        _,image=capture.read()\n",
    "        # 在此加入别视觉处理的函数\n",
    "    time2=time.time()\n",
    "    print('fps:',100/(time2-time1))"
   ]
  },
  {
   "cell_type": "code",
   "execution_count": null,
   "metadata": {},
   "outputs": [],
   "source": [
    "# 做映射变换（输入的图像为3色图，结果为黑白图，这里也可以自我调整）\n",
    "def image_trans(image_to_trans):\n",
    "    image_after_trans = cv2.warpPerspective(image_to_trans,M,(ad.shape[1],ad.shape[0]))\n",
    "    image_after_trans=cv2.cvtColor(image_after_trans, cv2.COLOR_BGR2GRAY)\n",
    "    _,image_after_trans=cv2.threshold(image_after_trans, 127, 255, cv2.THRESH_BINARY)\n",
    "    return image_after_trans"
   ]
  },
  {
   "cell_type": "code",
   "execution_count": null,
   "metadata": {},
   "outputs": [],
   "source": [
    "from Vision_Net import FastestDet\n",
    "loo_global=np.zeros((640,480,3),dtype=np.uint8)\n",
    "deep = FastestDet(drawOutput=True)\n",
    "# 获取照片数字，\n",
    "def get_photo_number(frame):\n",
    "    out = deep.detect(frame)\n",
    "    num_position=[]\n",
    "    num=[]\n",
    "    for i in range(len(out)):\n",
    "        num_position.append(out[i][0])\n",
    "        num.append(str(out[i][1]))\n",
    "    cv2.imwrite('change.jpg',frame)\n",
    "    return  num_position,num"
   ]
  },
  {
   "cell_type": "code",
   "execution_count": null,
   "metadata": {},
   "outputs": [],
   "source": [
    "# 获取当前地图的数字（输入结果为3色图像）\n",
    "grid_str_int={'0':0,'1':1,'2':2,'3':3,'4':4,'5':5,'6':6,'7':7,'8':8,'9':9,'A':10,'B':11,'C':12,'D':13,'E':14,'F':15,'N':16}\n",
    "def get_grid_num(image_tra):\n",
    "    grid_now_str=['N']*16\n",
    "    for i in range(16):\n",
    "        x=int(i/4)*242\n",
    "        y=int(i%4)*242\n",
    "        pi=image_tra[x+20:x+222,y+20:y+222].astype(np.uint8)\n",
    "        pi3=np.zeros((202,202,3),dtype=np.uint8)\n",
    "        pi3[:,:,0]=pi\n",
    "        pi3[:,:,1]=pi\n",
    "        pi3[:,:,2]=pi\n",
    "        _,num=get_photo_number(pi3)\n",
    "        try:\n",
    "            grid_now_str[i]=num[0]\n",
    "        except:\n",
    "            pass\n",
    "    return grid_now_str"
   ]
  },
  {
   "cell_type": "code",
   "execution_count": null,
   "metadata": {},
   "outputs": [],
   "source": [
    "# 分割图像操作（一般用于切割图像给神经网络训练）\n",
    "s=1\n",
    "for j in range(1,31):\n",
    "    image=cv2.imread(f'{j}.jpg')\n",
    "    image_tra=image_trans(image)\n",
    "    for i in range(16):\n",
    "        x=int(i/4)*242\n",
    "        y=int(i%4)*242\n",
    "        pi=image_tra[x+20:x+222,y+20:y+222]\n",
    "        cv2.imwrite(f'photo\\{s}.jpg',pi)\n",
    "        s+=1"
   ]
  },
  {
   "cell_type": "code",
   "execution_count": null,
   "metadata": {},
   "outputs": [],
   "source": [
    "# 将图像中的点做映射变换（image_gray这里为隔离红色后的单色图）\n",
    "# 颜色识别找车\n",
    "M=np.load('M.npy')\n",
    "def find_car_red(image_gray):\n",
    "    global car_center\n",
    "    try:\n",
    "        d1=np.argwhere(image_gray>100)\n",
    "        red1=np.mean(d1,axis=0)\n",
    "        red2=np.array([red1[1],red1[0],1])\n",
    "        # 这里相当于是把一个单色的红点给映射变换过去了\n",
    "        red3=np.dot(M,red2)\n",
    "        car_center=[red3[1]/red3[2],red3[0]/red3[2]]\n",
    "    except:\n",
    "        car_center=car_center\n",
    "    return car_center"
   ]
  },
  {
   "cell_type": "code",
   "execution_count": null,
   "metadata": {},
   "outputs": [],
   "source": [
    "# 路径规划函数，用于寻找方格路径\n",
    "grid_cross=[] # 这一位用于记录每个方格的相邻方格\n",
    "def find_road(aim_point22, grid_coverd_int):\n",
    "    road22=[[0]]\n",
    "    road_final=[]\n",
    "    while aim_point22 not in road_final:\n",
    "        try:\n",
    "            if len(road22)>1000:\n",
    "                print('no way')\n",
    "                return 0\n",
    "            if aim_point22 not in grid_coverd_int:\n",
    "                print('aim_point22 not in grid_coverd_int')\n",
    "                return 0\n",
    "            # 用于记录所有可能路径的最后一位\n",
    "            road_final=[]\n",
    "            # i表示保存的一条可能路径\n",
    "            for i in road22:\n",
    "                # print('i='+str(i))\n",
    "                # 找出这条路径的最后一位，找出最后一位的所有可能下一位\n",
    "                for j in grid_cross[i[-1]]:\n",
    "                    # print('j='+str(j))\n",
    "                    k=i.copy()\n",
    "                    if (j not in k) and (j not in road_final) and (j in grid_coverd_int):\n",
    "                        k.append(j)\n",
    "                        road22.append(k)\n",
    "                        road_final.append(j)\n",
    "        except:\n",
    "            print('break')\n",
    "            return 0\n",
    "    # print(road22)\n",
    "    road_possible=[]\n",
    "    road_length=[]\n",
    "    for r in road22:\n",
    "        if r[-1]==aim_point22:\n",
    "            road_possible.append(r)\n",
    "            road_length.append(len(r))\n",
    "    # 找出possible_road中的最短路径\n",
    "    # 找出最短路径\n",
    "    road_final=road_possible[road_length.index(min(road_length))]\n",
    "    return road_final"
   ]
  },
  {
   "cell_type": "code",
   "execution_count": null,
   "metadata": {},
   "outputs": [],
   "source": []
  }
 ],
 "metadata": {
  "kernelspec": {
   "display_name": "Python 3",
   "language": "python",
   "name": "python3"
  },
  "language_info": {
   "codemirror_mode": {
    "name": "ipython",
    "version": 3
   },
   "file_extension": ".py",
   "mimetype": "text/x-python",
   "name": "python",
   "nbconvert_exporter": "python",
   "pygments_lexer": "ipython3",
   "version": "3.9.18"
  }
 },
 "nbformat": 4,
 "nbformat_minor": 2
}
