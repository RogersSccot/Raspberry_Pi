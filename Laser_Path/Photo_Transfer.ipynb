{
 "cells": [
  {
   "cell_type": "code",
   "execution_count": 71,
   "metadata": {
    "collapsed": true,
    "pycharm": {
     "name": "#%%\n"
    }
   },
   "outputs": [],
   "source": [
    "from PIL import Image\n",
    "import pylab as pl\n",
    "from scipy import ndimage\n",
    "import numpy as np\n",
    "import scipy.ndimage\n",
    "import matplotlib.pyplot as plt\n",
    "from matplotlib.patches import Polygon\n",
    "import cv2\n",
    "import math\n",
    "import serial\n",
    "import time\n",
    "from PIL import Image\n",
    "from scipy import ndimage\n",
    "import scipy.ndimage\n",
    "from matplotlib.patches import Polygon"
   ]
  },
  {
   "cell_type": "code",
   "execution_count": 72,
   "outputs": [],
   "source": [
    "border_point=np.array([[10,10],[20,500],[320,450],[400,20]])\n",
    "circle_center=np.ones(2)\n",
    "circle_center[0]=int(np.sum(border_point[:,0])/(np.size(border_point[:,0])+0.001))\n",
    "circle_center[1]=int(np.sum(border_point[:,1])/(np.size(border_point[:,1])+0.001))\n",
    "# 首先对于获取的边界点，我们先分别生成正方形和圆的坐标\n",
    "# 然后我们直接使用M矩阵将坐标变换成想要的坐标\n",
    "# 其中，两个坐标将是分别生成的，以保留顺序\n",
    "gray=np.zeros((480,640))\n",
    "ad=cv2.imread('ad.png')\n",
    "square_origin=cv2.imread('square_origin.png')\n",
    "circle_origin=cv2.imread('circle_origin.png')\n",
    "# 原先的点\n",
    "pts = np.float32([[0,0],[0,square_origin.shape[1]],[square_origin.shape[0],square_origin.shape[1]],[square_origin.shape[0],0]])\n",
    "# # 后面的点\n",
    "border_point=np.array([[10,10],[20,500],[320,450],[400,20]])\n",
    "# 由于变换的特殊性，这里后面的点是列行，反着来的\n",
    "border_point_1=np.zeros(np.shape(border_point))\n",
    "border_point_1[:,0]=border_point[:,1]\n",
    "border_point_1[:,1]=border_point[:,0]\n",
    "pts1 = np.float32(border_point_1)\n",
    "# 生成最为关键的变换矩阵\n",
    "M = cv2.getPerspectiveTransform(pts,pts1)\n",
    "# 变换正方形\n",
    "square_trans = cv2.warpPerspective(square_origin,M,(ad.shape[1],ad.shape[0]))\n",
    "square_trans = cv2.cvtColor(square_trans, cv2.COLOR_RGB2GRAY)\n",
    "_, square_trans = cv2.threshold(square_trans, 127, 255, cv2.THRESH_BINARY)\n",
    "# 变换圆\n",
    "circle_trans = cv2.warpPerspective(circle_origin,M,(ad.shape[1],ad.shape[0]))\n",
    "circle_trans = cv2.cvtColor(circle_trans, cv2.COLOR_RGB2GRAY)\n",
    "_, circle_trans = cv2.threshold(circle_trans, 127, 255, cv2.THRESH_BINARY)"
   ],
   "metadata": {
    "collapsed": false,
    "pycharm": {
     "name": "#%%\n"
    }
   }
  },
  {
   "cell_type": "code",
   "execution_count": 73,
   "outputs": [],
   "source": [
    "# 然后获取每条直线的斜率（方向）,范围是0到2*pi\n",
    "k_angle = np.array(range(0, int(200 * (2 * math.pi)), 5)) / 200 - math.pi\n",
    "# 获取边框上的点，用于之后遍历路径\n",
    "stripe = np.array(np.where(square_trans))\n",
    "stripe_center = circle_center\n",
    "# 获取整个图面的中心点\n",
    "# 所有的点都是以行列的形式标注的，先取行，再取列\n",
    "square_trans[int(stripe_center[0]), int(stripe_center[1])] = 255\n",
    "# 接下来找出每个有值的点所具有对应三角值\n",
    "# 找出相对位置\n",
    "k_re = stripe[0, :] - stripe_center[0], stripe[1, :] - stripe_center[1]\n",
    "k_re = np.array(k_re)\n",
    "k_stripe_pi = np.arctan2(k_re[0, :], k_re[1, :])\n",
    "# 找出所有的斜率对应的最接近的点\n",
    "# 将找出的边界点存入对应的road_point矩阵中,最后保存为square_point\n",
    "# road用于显示最后的路径图像\n",
    "# road_point收集有顺序的点坐标\n",
    "road=np.zeros(np.shape(gray))\n",
    "road_point=np.ones((np.size(k_angle),2))\n",
    "for k in range(0, np.size(k_angle)):\n",
    "    k_rela = np.abs(k_stripe_pi - k_angle[k])\n",
    "    min_index = np.argmin(k_rela)\n",
    "    # road[int(stripe[0, min_index]), int(stripe[1, min_index])] = 255\n",
    "    road_point[k,:]=[int(stripe[0, min_index]), int(stripe[1, min_index])]\n",
    "square_point_num=np.shape(road_point)[0]\n",
    "# 调整正方形的顺序\n",
    "square_point=np.zeros(np.shape(road_point))\n",
    "square_point[0:int(square_point_num/8*7),:]=road_point[(int(square_point_num)-int(square_point_num/8*7))-1:square_point_num-1,:]\n",
    "square_point[int(square_point_num/8*7)-1:int(square_point_num)-1,:]=road_point[0:int(square_point_num-int(square_point_num/8*7)),:]"
   ],
   "metadata": {
    "collapsed": false,
    "pycharm": {
     "name": "#%%\n"
    }
   }
  },
  {
   "cell_type": "code",
   "execution_count": 74,
   "outputs": [],
   "source": [
    "# 获取边框上的点，用于之后遍历路径\n",
    "stripe = np.array(np.where(circle_trans))\n",
    "# 获取整个图面的中心点\n",
    "# 所有的点都是以行列的形式标注的，先取行，再取列\n",
    "circle_trans[int(stripe_center[0]), int(stripe_center[1])] = 255\n",
    "# 接下来找出每个有值的点所具有对应三角值\n",
    "# 找出相对位置\n",
    "k_re = stripe[0, :] - stripe_center[0], stripe[1, :] - stripe_center[1]\n",
    "k_re = np.array(k_re)\n",
    "k_stripe_pi = np.arctan2(k_re[0, :], k_re[1, :])\n",
    "# 找出所有的斜率对应的最接近的点\n",
    "# 将找出的边界点存入对应的road_point矩阵中,最后保存为square_point\n",
    "# road用于显示最后的路径图像\n",
    "# road_point收集有顺序的点坐标\n",
    "# road=np.zeros(np.shape(gray))\n",
    "road_point=np.ones((np.size(k_angle),2))\n",
    "for k in range(0, np.size(k_angle)):\n",
    "    k_rela = np.abs(k_stripe_pi - k_angle[k])\n",
    "    min_index = np.argmin(k_rela)\n",
    "    # road[int(stripe[0, min_index]), int(stripe[1, min_index])] = 255\n",
    "    road_point[k,:]=[int(stripe[0, min_index]), int(stripe[1, min_index])]\n",
    "circle_point_num=np.shape(road_point)[0]\n",
    "# 调整圆的顺序\n",
    "circle_point=np.zeros(np.shape(road_point))\n",
    "circle_point[0:int(circle_point_num/8*7),:]=road_point[(int(circle_point_num)-int(circle_point_num/8*7))-1:circle_point_num-1,:]\n",
    "circle_point[int(circle_point_num/8*7)-1:int(circle_point_num)-1,:]=road_point[0:int(circle_point_num-int(circle_point_num/8*7)),:]"
   ],
   "metadata": {
    "collapsed": false,
    "pycharm": {
     "name": "#%%\n"
    }
   }
  }
 ],
 "metadata": {
  "kernelspec": {
   "display_name": "Python 3",
   "language": "python",
   "name": "python3"
  },
  "language_info": {
   "codemirror_mode": {
    "name": "ipython",
    "version": 2
   },
   "file_extension": ".py",
   "mimetype": "text/x-python",
   "name": "python",
   "nbconvert_exporter": "python",
   "pygments_lexer": "ipython2",
   "version": "2.7.6"
  }
 },
 "nbformat": 4,
 "nbformat_minor": 0
}