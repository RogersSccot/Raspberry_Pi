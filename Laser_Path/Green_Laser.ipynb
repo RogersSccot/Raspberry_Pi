{
 "cells": [
  {
   "cell_type": "code",
   "execution_count": 1,
   "metadata": {
    "collapsed": false,
    "pycharm": {
     "name": "#%%\n"
    }
   },
   "outputs": [],
   "source": [
    "import cv2\n",
    "import numpy\n",
    "import numpy as np\n",
    "import serial\n",
    "import math\n",
    "import matplotlib.pyplot as plt\n",
    "import serial\n",
    "import time"
   ]
  },
  {
   "cell_type": "code",
   "execution_count": 2,
   "metadata": {
    "collapsed": false,
    "pycharm": {
     "name": "#%%\n"
    }
   },
   "outputs": [],
   "source": [
    "# 打开摄像机，不轻易运行\n",
    "capture=cv2.VideoCapture(1)"
   ]
  },
  {
   "cell_type": "code",
   "execution_count": 4,
   "metadata": {
    "collapsed": false,
    "pycharm": {
     "name": "#%%\n"
    }
   },
   "outputs": [],
   "source": [
    "# 定义何时的卷积核\n",
    "max_speed=6\n",
    "def convert_to_two_digits(number):\n",
    "    if 10 > number >= 0:\n",
    "        return '+0' + str(number)\n",
    "    if 100 > number >= 10:\n",
    "        return '+' + str(min(number,max_speed))\n",
    "    if 0 > number > -10:\n",
    "        return '-0' + str(number)[1]\n",
    "    if -10 >= number > -100:\n",
    "        return '-'+str(min(abs(number),max_speed))\n",
    "# ser.close()\n",
    "ser = serial.Serial('COM10', 115200)"
   ]
  },
  {
   "cell_type": "code",
   "execution_count": 5,
   "metadata": {
    "collapsed": false,
    "pycharm": {
     "name": "#%%\n"
    }
   },
   "outputs": [
    {
     "data": {
      "text/plain": [
       "'\\n#获取路径上每个点的坐标\\ncircle= np.array(np.where(edges)).T\\n\\n# 获得边框中心点的坐标\\ncircle_center=np.ones(2)\\ncircle_center[0]=int(np.sum(circle[:,0])/(np.size(circle[:,0])+0.001))\\ncircle_center[1]=int(np.sum(circle[:,1])/(np.size(circle[:,1])+0.001))\\n\\n# 计算每个点与中心点的距离\\ndis=circle-circle_center\\ndis=np.linalg.norm(dis,axis=1)\\n\\n# 获取长宽\\nroad_width=min(dis)*2\\nroad_length=np.sqrt(max(dis)**2-min(dis)**2)*2\\n# 获取长方形四个边界点的位置\\ncontours, _ = cv2.findContours(road, cv2.RETR_EXTERNAL, cv2.CHAIN_APPROX_SIMPLE)\\n# '"
      ]
     },
     "execution_count": 5,
     "metadata": {},
     "output_type": "execute_result"
    }
   ],
   "source": [
    "\n",
    " # 以下是静态工作区-----------------------------------------------------------------------------------\n",
    "a=17\n",
    "b=16\n",
    "#首先，获取最主要的路径\n",
    "_,image1=capture.read()\n",
    "# 先转为灰度图\n",
    "gray=cv2.cvtColor(image1, cv2.COLOR_BGR2GRAY)\n",
    "# 先获取边界\n",
    "edges=cv2.Canny(gray, 240, 200)\n",
    "#二极化\n",
    "# _, binary = cv2.threshold(edges, 60, 255, cv2.THRESH_BINARY)\n",
    "# 获取边界当中的主要路径\n",
    "# road_indistinct = cv2.filter2D(binary, -2, kernel)\n",
    "#二极化获取最终的路径\n",
    "# _, road = cv2.threshold(road_indistinct, 100, 255, cv2.THRESH_BINARY)\n",
    "'''\n",
    "#获取路径上每个点的坐标\n",
    "circle= np.array(np.where(edges)).T\n",
    "\n",
    "# 获得边框中心点的坐标\n",
    "circle_center=np.ones(2)\n",
    "circle_center[0]=int(np.sum(circle[:,0])/(np.size(circle[:,0])+0.001))\n",
    "circle_center[1]=int(np.sum(circle[:,1])/(np.size(circle[:,1])+0.001))\n",
    "\n",
    "# 计算每个点与中心点的距离\n",
    "dis=circle-circle_center\n",
    "dis=np.linalg.norm(dis,axis=1)\n",
    "\n",
    "# 获取长宽\n",
    "road_width=min(dis)*2\n",
    "road_length=np.sqrt(max(dis)**2-min(dis)**2)*2\n",
    "# 获取长方形四个边界点的位置\n",
    "contours, _ = cv2.findContours(road, cv2.RETR_EXTERNAL, cv2.CHAIN_APPROX_SIMPLE)\n",
    "# '''\n",
    "# plt.imshow(road, cmap='gray')"
   ]
  },
  {
   "cell_type": "code",
   "execution_count": 6,
   "metadata": {
    "collapsed": false,
    "pycharm": {
     "name": "#%%\n"
    }
   },
   "outputs": [
    {
     "data": {
      "text/plain": [
       "6"
      ]
     },
     "execution_count": 6,
     "metadata": {},
     "output_type": "execute_result"
    }
   ],
   "source": [
    "# data = \"ffffff\"\n",
    "# encoded_data = data.encode()\n",
    "# ser.write(encoded_data)\n",
    "# ser.close()\n",
    "# ser = serial.Serial('COM10', 115200)\n",
    "# # 第1个数正上负下\n",
    "rotate=np.ones(2)\n",
    "rotate[0]=6\n",
    "# 第2个数，正左负右\n",
    "rotate[1]=6\n",
    "data = convert_to_two_digits(int(rotate[0]))+convert_to_two_digits(int(rotate[1]))\n",
    "encoded_data = data.encode()\n",
    "ser.write(encoded_data)"
   ]
  },
  {
   "cell_type": "code",
   "execution_count": null,
   "metadata": {
    "collapsed": false,
    "pycharm": {
     "is_executing": true,
     "name": "#%%\n"
    }
   },
   "outputs": [],
   "source": [
    "''' 以下是动态工作区-----------------------------------------------------------------------------------'''\n",
    "dis_center=12\n",
    "# 首先将中心点移到指定位置------------------------------------------------------------------------------\n",
    "while True:\n",
    "    _,image=capture.read()\n",
    "    # 找到红色的点\n",
    "    circle= np.array(np.where(edges))\n",
    "    image_red_true=image[:,:,2]\n",
    "    image_back=(image[:,:,1]+image[:,:,0])/2\n",
    "    image_red=image_red_true-image_back\n",
    "    red = np.array(np.argwhere(image_red>240))\n",
    "    # 红色中心点坐标\n",
    "    if red.shape[0]>2:\n",
    "        red_center=np.ones(2)\n",
    "        red_center[0]=int(np.sum(red[:,0])/(np.size(red[:,0])+0.001))\n",
    "        red_center[1]=int(np.sum(red[:,1])/(np.size(red[:,0])+0.001))\n",
    "    else:\n",
    "        break\n",
    "    image_green_true=image[:,:,1]\n",
    "    image_back=(image[:,:,2]+image[:,:,0])/2\n",
    "    image_green=image_red_true-image_back\n",
    "    green = np.array(np.argwhere(image_green>240))\n",
    "    # 绿中心点坐标\n",
    "    if green.shape[0]>2:\n",
    "        green_center=np.ones(2)\n",
    "        green_center[0]=int(np.sum(green[:,0])/(np.size(green[:,0])+0.001))\n",
    "        green_center[1]=int(np.sum(green[:,1])/(np.size(green[:,0])+0.001))\n",
    "    else:\n",
    "        break\n",
    "    dis_center=np.linalg.norm(green_center-red_center)\n",
    "    while dis_center>3:\n",
    "        _,image=capture.read()\n",
    "        # 找到红色的点\n",
    "        circle= np.array(np.where(edges))\n",
    "        image_red_true=image[:,:,2]\n",
    "        image_back=(image[:,:,1]+image[:,:,0])/2\n",
    "        image_red=image_red_true-image_back\n",
    "        red = np.array(np.argwhere(image_red>240))\n",
    "        # 红色中心点坐标\n",
    "        if red.shape[0]>2:\n",
    "            red_center=np.ones(2)\n",
    "            red_center[0]=int(np.sum(red[:,0])/(np.size(red[:,0])+0.001))\n",
    "            red_center[1]=int(np.sum(red[:,1])/(np.size(red[:,0])+0.001))\n",
    "        else:\n",
    "            break\n",
    "        image_green_true=image[:,:,1]\n",
    "        image_back=(image[:,:,2]+image[:,:,0])/2\n",
    "        image_green=image_red_true-image_back\n",
    "        green = np.array(np.argwhere(image_green>240))\n",
    "        # 绿中心点坐标\n",
    "        if green.shape[0]>2:\n",
    "            green_center=np.ones(2)\n",
    "            green_center[0]=int(np.sum(green[:,0])/(np.size(green[:,0])+0.001))\n",
    "            green_center[1]=int(np.sum(green[:,1])/(np.size(green[:,0])+0.001))\n",
    "        else:\n",
    "            break\n",
    "        dis_center=np.linalg.norm(green_center-red_center)\n",
    "        rotate=(green_center-red_center)/3\n",
    "        rotate=-rotate\n",
    "        # 第1个数正上负下  第2个数，正左负右\n",
    "        data = convert_to_two_digits(int(rotate[0]))+convert_to_two_digits(int(rotate[1]))\n",
    "        encoded_data = data.encode()\n",
    "        ser.write(encoded_data)\n",
    "        time.sleep(0.1)\n",
    "        # 找到四边形的四个边界点----------------------------------------------------------------------"
   ]
  },
  {
   "cell_type": "code",
   "execution_count": 6,
   "metadata": {
    "collapsed": false,
    "pycharm": {
     "name": "#%%\n"
    }
   },
   "outputs": [
    {
     "data": {
      "text/plain": [
       "6"
      ]
     },
     "execution_count": 6,
     "metadata": {},
     "output_type": "execute_result"
    }
   ],
   "source": [
    "# 第1个数正上负下\n",
    "rotate=np.ones(2)\n",
    "rotate[0]=-10\n",
    "# 第2个数，正左负右\n",
    "rotate[1]=-10\n",
    "data = convert_to_two_digits(int(rotate[0]))+convert_to_two_digits(int(rotate[1]))\n",
    "encoded_data = data.encode()\n",
    "ser.write(encoded_data)"
   ]
  },
  {
   "cell_type": "code",
   "execution_count": 6,
   "metadata": {
    "collapsed": false,
    "pycharm": {
     "name": "#%%\n"
    }
   },
   "outputs": [],
   "source": []
  }
 ],
 "metadata": {
  "kernelspec": {
   "display_name": "Python 3",
   "language": "python",
   "name": "python3"
  },
  "language_info": {
   "codemirror_mode": {
    "name": "ipython",
    "version": 2
   },
   "file_extension": ".py",
   "mimetype": "text/x-python",
   "name": "python",
   "nbconvert_exporter": "python",
   "pygments_lexer": "ipython2",
   "version": "2.7.6"
  }
 },
 "nbformat": 4,
 "nbformat_minor": 0
}
