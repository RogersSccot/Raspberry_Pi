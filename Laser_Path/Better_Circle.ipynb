{
 "cells": [
  {
   "cell_type": "code",
   "execution_count": null,
   "metadata": {
    "collapsed": false,
    "pycharm": {
     "name": "#%%\n"
    }
   },
   "outputs": [],
   "source": [
    "# 导入必要的函数库\n",
    "import cv2\n",
    "import numpy as np\n",
    "import math\n",
    "import matplotlib.pyplot as plt\n",
    "import serial\n",
    "from PIL import Image\n",
    "import pylab as pl\n",
    "from scipy import ndimage\n",
    "import scipy.ndimage\n",
    "import time\n",
    "from matplotlib.patches import Polygon"
   ]
  },
  {
   "cell_type": "code",
   "execution_count": null,
   "metadata": {
    "collapsed": false,
    "pycharm": {
     "name": "#%%\n"
    }
   },
   "outputs": [],
   "source": [
    "# 打开摄像机和端口，不轻易运行\n",
    "capture=cv2.VideoCapture(1)\n",
    "_,image=capture.read()\n",
    "gray=np.zeros((480,640))\n",
    "# ser.close()\n",
    "ser = serial.Serial('COM10', 115200)"
   ]
  },
  {
   "cell_type": "code",
   "execution_count": null,
   "metadata": {
    "collapsed": false,
    "pycharm": {
     "name": "#%%\n"
    }
   },
   "outputs": [],
   "source": [
    "# 定义字符串的转换方式\n",
    "# 先定义最大速度\n",
    "max_speed=10\n",
    "def convert_to_two_digits(number):\n",
    "    if 10 > number >= 0:\n",
    "        return '+0' + str(number)\n",
    "    if 100 > number >= 10:\n",
    "        return '+' + str(min(number,max_speed))\n",
    "    if 0 > number > -10:\n",
    "        return '-0' + str(number)[1]\n",
    "    if -10 >= number > -100:\n",
    "        return '-'+str(min(abs(number),max_speed))\n",
    "# 在整个图片中获取红色点\n",
    "# 在整个image所获取的图片中[:,:,1]是绿色图片,[:,:,2]是红色图片\n",
    "template_image = cv2.imread('point.png')\n",
    "template_gray = cv2.cvtColor(template_image, cv2.COLOR_BGR2GRAY)\n",
    "threshold = 0.8\n",
    "\n",
    "def get_red_point(capture, red_center):\n",
    "    _,image=capture.read()\n",
    "    image1_red=image[:,:,2].astype(np.float32)\n",
    "    image1_green=image[:,:,1].astype(np.float32)\n",
    "    image1_blue=image[:,:,0].astype(np.float32)\n",
    "    image2=image1_red-(image1_blue+image1_green)/2\n",
    "    image2[image2<0]=0\n",
    "    image2=image2*2\n",
    "    back_gray=image2.astype(np.uint8)\n",
    "    try:\n",
    "        result = cv2.matchTemplate(back_gray, template_gray, cv2.TM_CCOEFF_NORMED)\n",
    "        locations = np.where(result >= threshold)\n",
    "        locations = list(zip(*locations[::-1]))  # 转换为(x, y)坐标\n",
    "        red_center=np.array([int(locations[0][1] + template_image.shape[0] / 2),int(locations[0][0] + template_image.shape[1] / 2)])\n",
    "    except cv2.error:\n",
    "        red_center=red_center\n",
    "    return(red_center)\n",
    "\n",
    "template_image_1 = cv2.imread('point_green.png')\n",
    "template_gray_1 = cv2.cvtColor(template_image, cv2.COLOR_BGR2GRAY)\n",
    "\n",
    "def get_green_point(capture, green_center):\n",
    "    _,image=capture.read()\n",
    "    image1_red=image[:,:,2].astype(np.float32)\n",
    "    image1_green=image[:,:,1].astype(np.float32)\n",
    "    image1_blue=image[:,:,0].astype(np.float32)\n",
    "    image2=image1_green-(image1_blue+image1_red)/2\n",
    "    image2[image2<0]=0\n",
    "    image2=image2*2\n",
    "    back_gray=image2.astype(np.uint8)\n",
    "    try:\n",
    "        result = cv2.matchTemplate(back_gray, template_gray_1, cv2.TM_CCOEFF_NORMED)\n",
    "        locations = np.where(result >= threshold)\n",
    "        locations = list(zip(*locations[::-1]))  # 转换为(x, y)坐标\n",
    "        green_center=np.array([int(locations[0][1] + template_image_1.shape[0] / 2),int(locations[0][0] + template_image_1.shape[1] / 2)])\n",
    "    except cv2.error:\n",
    "        green_center=green_center\n",
    "    return(green_center)\n",
    "\n",
    "# 将红点移动到目标点\n",
    "def move_to_the_point(dis_aim,speed,aim_center,sleep_time,red_center):\n",
    "    dis_center=20\n",
    "    speed=speed/10\n",
    "    # while True:\n",
    "    while dis_center>dis_aim:\n",
    "        red_center=get_red_point(capture, red_center)\n",
    "        dis_center=np.linalg.norm(aim_center-red_center)\n",
    "        rotate=(aim_center-red_center)*speed\n",
    "        rotate=rotate*np.array([1,-1])\n",
    "        # 第1个数正上负下  第2个数，正左负右\n",
    "        data = convert_to_two_digits(int(rotate[0]))+convert_to_two_digits(int(rotate[1]))\n",
    "        encoded_data = data.encode()\n",
    "        ser.write(encoded_data)\n",
    "        time.sleep(sleep_time)\n",
    "\n",
    "# 蜂鸣器响3秒\n",
    "def buzzer_open():\n",
    "    data = \"ffffff\"\n",
    "    encoded_data = data.encode()\n",
    "    ser.write(encoded_data)"
   ]
  },
  {
   "cell_type": "code",
   "execution_count": null,
   "metadata": {
    "collapsed": false,
    "pycharm": {
     "name": "#%%\n"
    }
   },
   "outputs": [],
   "source": [
    "# ser.close()\n",
    "# ser = serial.Serial('COM10', 115200)\n",
    "# 第1个数正上负下\n",
    "rotate=np.ones(2)\n",
    "rotate[0]=5\n",
    "# 第2个数，正左负右\n",
    "rotate[1]=5\n",
    "data = convert_to_two_digits(int(rotate[0]))+convert_to_two_digits(int(rotate[1]))\n",
    "encoded_data = data.encode()\n",
    "ser.write(encoded_data)"
   ]
  },
  {
   "cell_type": "code",
   "execution_count": null,
   "metadata": {
    "collapsed": false,
    "pycharm": {
     "name": "#%%\n"
    }
   },
   "outputs": [],
   "source": [
    "# 定义卷积核\n",
    "kernel = np.array([\n",
    "[0,0,0,0,0,0,0,1,1,1,1,1,1,1,1,0,0,0,0,0,0,0],\n",
    "[0,0,0,0,0,0,1,1,1,1,1,1,1,1,1,1,0,0,0,0,0,0],\n",
    "[0,0,0,0,0,1,1,1,1,1,1,1,1,1,1,1,1,0,0,0,0,0],\n",
    "[0,0,0,0,1,1,1,1,1,1,1,1,1,1,1,1,1,1,0,0,0,0],\n",
    "[0,0,0,1,1,1,1,1,1,1,1,1,1,1,1,1,1,1,1,0,0,0],\n",
    "[0,0,1,1,1,1,1,0,0,0,0,0,0,0,0,1,1,1,1,1,0,0],\n",
    "[0,1,1,1,1,1,0,0,0,0,0,0,0,0,0,0,1,1,1,1,1,0],\n",
    "[1,1,1,1,1,0,0,0,0,0,0,0,0,0,0,0,0,1,1,1,1,1],\n",
    "[1,1,1,1,1,0,0,0,0,0,0,0,0,0,0,0,0,1,1,1,1,1],\n",
    "[1,1,1,1,1,0,0,0,0,0,0,0,0,0,0,0,0,1,1,1,1,1],\n",
    "[1,1,1,1,1,0,0,0,0,0,0,0,0,0,0,0,0,1,1,1,1,1],\n",
    "[1,1,1,1,1,0,0,0,0,0,0,0,0,0,0,0,0,1,1,1,1,1],\n",
    "[1,1,1,1,1,0,0,0,0,0,0,0,0,0,0,0,0,1,1,1,1,1],\n",
    "[1,1,1,1,1,0,0,0,0,0,0,0,0,0,0,0,0,1,1,1,1,1],\n",
    "[1,1,1,1,1,0,0,0,0,0,0,0,0,0,0,0,0,1,1,1,1,1],\n",
    "[0,1,1,1,1,1,0,0,0,0,0,0,0,0,0,0,1,1,1,1,1,0],\n",
    "[0,0,1,1,1,1,1,0,0,0,0,0,0,0,0,1,1,1,1,1,0,0],\n",
    "[0,0,0,1,1,1,1,1,1,1,1,1,1,1,1,1,1,1,1,0,0,0],\n",
    "[0,0,0,0,1,1,1,1,1,1,1,1,1,1,1,1,1,1,0,0,0,0],\n",
    "[0,0,0,0,0,1,1,1,1,1,1,1,1,1,1,1,1,0,0,0,0,0],\n",
    "[0,0,0,0,0,0,1,1,1,1,1,1,1,1,1,1,0,0,0,0,0,0],\n",
    "[0,0,0,0,0,0,0,1,1,1,1,1,1,1,1,0,0,0,0,0,0,0],\n",
    "])*0.01\n",
    "a=11\n",
    "b=11\n",
    "border_point=np.ones((4,2))\n",
    "red_center=np.ones(2)\n",
    "red_center[0]=240\n",
    "red_center[1]=320\n",
    "green_center=np.ones(2)\n",
    "green_center[0]=240\n",
    "green_center[1]=320"
   ]
  },
  {
   "cell_type": "code",
   "execution_count": null,
   "metadata": {
    "collapsed": false,
    "pycharm": {
     "name": "#%%\n"
    }
   },
   "outputs": [],
   "source": [
    "''' 以下是静态工作区-----------------------------------------------------------------------------------'''\n",
    "# 首先要获取路径的边界\n",
    "# 对于获取的路径边界，我们将路径边框的四个点都获取出来，之后，将外围的环境都设为0\n",
    "# 然后对于所获取的点，我们再将我们的路径给规划出来\n",
    "\n",
    "while True:\n",
    "    change=int(input('whether to change the point ,Yes input 1 ,No input 0'))\n",
    "    if change==0:\n",
    "        break\n",
    "    if change==1:\n",
    "        i=int(input('which point you like to change? No 1~4'))-1\n",
    "        while True:\n",
    "            OK=0\n",
    "            # 分别读取4个边界点的坐标\n",
    "            while OK==0:\n",
    "                _,image=capture.read()\n",
    "                # 对于所获得的图像，首先计算他的几何中心\n",
    "                # 先转为灰度图\n",
    "                gray=cv2.cvtColor(image, cv2.COLOR_BGR2GRAY)\n",
    "                # edges_show=cv2.Canny(gray, 240, 200)\n",
    "                edges_show=gray\n",
    "                # 获取激光点\n",
    "                red_center=get_red_point(capture,red_center)\n",
    "                if (int(red_center[0]-a)>0)&(int(red_center[0]+b)<480)&(int(red_center[1]-a)>0)&(int(red_center[1]+b)<640):\n",
    "                    edges_show[int(red_center[0]-a):int(red_center[0]+b),int(red_center[1]-a):int(red_center[1]+b)]=kernel*25400\n",
    "                else:\n",
    "                    edges_show[240-a:240+b,320-a:320+b]=kernel*25400\n",
    "                cv2.imshow('edges_show', edges_show)\n",
    "                cv2.waitKey(1)\n",
    "                OK=int(input(f\"point {i+1} OK? if OK input 1,not ok input 0\"))\n",
    "                if OK==1:\n",
    "                    border_point[i,:]=red_center\n",
    "            break\n",
    "# 首先计算整个图形的中心点\n",
    "circle_center=np.ones(2)\n",
    "circle_center[0]=int(np.sum(border_point[:,0])/(np.size(border_point[:,0])+0.001))\n",
    "circle_center[1]=int(np.sum(border_point[:,1])/(np.size(border_point[:,1])+0.001))"
   ]
  },
  {
   "cell_type": "code",
   "execution_count": null,
   "metadata": {
    "collapsed": false,
    "pycharm": {
     "name": "#%%\n"
    }
   },
   "outputs": [],
   "source": [
    "ad=cv2.imread('ad.png')\n",
    "square_origin=cv2.imread('square_origin.png')\n",
    "circle_origin=cv2.imread('circle_origin.png')\n"
   ]
  },
  {
   "cell_type": "code",
   "execution_count": null,
   "metadata": {},
   "outputs": [],
   "source": [
    "# 原先的点\n",
    "pts = np.float32([[0,0],[0,square_origin.shape[1]],[square_origin.shape[0],square_origin.shape[1]],[square_origin.shape[0],0]])"
   ]
  },
  {
   "cell_type": "code",
   "execution_count": null,
   "metadata": {},
   "outputs": [],
   "source": [
    "# 后面的点\n",
    "# 由于变换的特殊性，这里后面的点是列行，反着来的\n",
    "border_point_1=np.zeros(np.shape(border_point))\n",
    "border_point_1[:,0]=border_point[:,1]\n",
    "border_point_1[:,1]=border_point[:,0]\n",
    "pts1 = np.float32(border_point_1)\n",
    "print(pts1)"
   ]
  },
  {
   "cell_type": "code",
   "execution_count": null,
   "metadata": {},
   "outputs": [],
   "source": [
    "# 生成最为关键的变换矩阵\n",
    "M = cv2.getPerspectiveTransform(pts,pts1)\n",
    "# 变换正方形\n",
    "square_trans = cv2.warpPerspective(square_origin,M,(ad.shape[1],ad.shape[0]))\n",
    "square_trans = cv2.cvtColor(square_trans, cv2.COLOR_RGB2GRAY)\n",
    "_, square_trans = cv2.threshold(square_trans, 127, 255, cv2.THRESH_BINARY)\n",
    "# 变换圆\n",
    "circle_trans = cv2.warpPerspective(circle_origin,M,(ad.shape[1],ad.shape[0]))\n",
    "circle_trans = cv2.cvtColor(circle_trans, cv2.COLOR_RGB2GRAY)\n",
    "_, circle_trans = cv2.threshold(circle_trans, 127, 255, cv2.THRESH_BINARY)"
   ]
  },
  {
   "cell_type": "code",
   "execution_count": null,
   "metadata": {},
   "outputs": [],
   "source": [
    "pts1 = np.float32(border_point_1)\n",
    "# 生成最为关键的变换矩阵\n",
    "M = cv2.getPerspectiveTransform(pts,pts1)\n",
    "# 变换正方形\n",
    "square_trans = cv2.warpPerspective(square_origin,M,(ad.shape[1],ad.shape[0]))\n",
    "square_trans = cv2.cvtColor(square_trans, cv2.COLOR_RGB2GRAY)\n",
    "_, square_trans = cv2.threshold(square_trans, 127, 255, cv2.THRESH_BINARY)\n",
    "# 变换圆\n",
    "circle_trans = cv2.warpPerspective(circle_origin,M,(ad.shape[1],ad.shape[0]))\n",
    "circle_trans = cv2.cvtColor(circle_trans, cv2.COLOR_RGB2GRAY)\n",
    "_, circle_trans = cv2.threshold(circle_trans, 127, 255, cv2.THRESH_BINARY)"
   ]
  },
  {
   "cell_type": "code",
   "execution_count": null,
   "metadata": {
    "collapsed": false,
    "pycharm": {
     "name": "#%%\n"
    }
   },
   "outputs": [],
   "source": [
    "#----------------------------------------------------------------------------------\n",
    "\n",
    "# 然后获取每条直线的斜率（方向）,范围是0到2*pi\n",
    "k_angle = np.array(range(0, int(200 * (2 * math.pi)), 5)) / 200 - math.pi\n",
    "# 获取边框上的点，用于之后遍历路径\n",
    "stripe = np.array(np.where(square_trans))\n",
    "stripe_center = circle_center\n",
    "# 获取整个图面的中心点\n",
    "# 所有的点都是以行列的形式标注的，先取行，再取列\n",
    "square_trans[int(stripe_center[0]), int(stripe_center[1])] = 255\n",
    "# 接下来找出每个有值的点所具有对应三角值\n",
    "# 找出相对位置\n",
    "k_re = stripe[0, :] - stripe_center[0], stripe[1, :] - stripe_center[1]\n",
    "k_re = np.array(k_re)\n",
    "k_stripe_pi = np.arctan2(k_re[0, :], k_re[1, :])\n",
    "# 找出所有的斜率对应的最接近的点\n",
    "# 将找出的边界点存入对应的road_point矩阵中,最后保存为square_point\n",
    "# road用于显示最后的路径图像\n",
    "# road_point收集有顺序的点坐标\n",
    "road=np.zeros(np.shape(gray))\n",
    "road_point=np.ones((np.size(k_angle),2))\n",
    "for k in range(0, np.size(k_angle)):\n",
    "    k_rela = np.abs(k_stripe_pi - k_angle[k])\n",
    "    min_index = np.argmin(k_rela)\n",
    "    # road[int(stripe[0, min_index]), int(stripe[1, min_index])] = 255\n",
    "    road_point[k,:]=[int(stripe[0, min_index]), int(stripe[1, min_index])]\n",
    "square_point_num=np.shape(road_point)[0]\n",
    "# 调整正方形的顺序\n",
    "square_point=np.zeros(np.shape(road_point))\n",
    "square_point[0:int(square_point_num/8*7),:]=road_point[(int(square_point_num)-int(square_point_num/8*7))-1:square_point_num-1,:]\n",
    "square_point[int(square_point_num/8*7)-1:int(square_point_num)-1,:]=road_point[0:int(square_point_num-int(square_point_num/8*7)),:]\n",
    "\n",
    "#-------------------------------------------------------------------\n",
    "\n",
    "# 获取边框上的点，用于之后遍历路径\n",
    "stripe = np.array(np.where(circle_trans))\n",
    "# 获取整个图面的中心点\n",
    "# 所有的点都是以行列的形式标注的，先取行，再取列\n",
    "circle_trans[int(stripe_center[0]), int(stripe_center[1])] = 255\n",
    "# 接下来找出每个有值的点所具有对应三角值\n",
    "# 找出相对位置\n",
    "k_re = stripe[0, :] - stripe_center[0], stripe[1, :] - stripe_center[1]\n",
    "k_re = np.array(k_re)\n",
    "k_stripe_pi = np.arctan2(k_re[0, :], k_re[1, :])\n",
    "# 找出所有的斜率对应的最接近的点\n",
    "# 将找出的边界点存入对应的road_point矩阵中,最后保存为square_point\n",
    "# road用于显示最后的路径图像\n",
    "# road_point收集有顺序的点坐标\n",
    "# road=np.zeros(np.shape(gray))\n",
    "road_point=np.ones((np.size(k_angle),2))\n",
    "for k in range(0, np.size(k_angle)):\n",
    "    k_rela = np.abs(k_stripe_pi - k_angle[k])\n",
    "    min_index = np.argmin(k_rela)\n",
    "    # road[int(stripe[0, min_index]), int(stripe[1, min_index])] = 255\n",
    "    road_point[k,:]=[int(stripe[0, min_index]), int(stripe[1, min_index])]\n",
    "circle_point_num=np.shape(road_point)[0]\n",
    "# 调整圆的顺序\n",
    "circle_point=np.zeros(np.shape(road_point))\n",
    "circle_point[0:int(circle_point_num/8*7),:]=road_point[(int(circle_point_num)-int(circle_point_num/8*7))-1:circle_point_num-1,:]\n",
    "circle_point[int(circle_point_num/8*7)-1:int(circle_point_num)-1,:]=road_point[0:int(circle_point_num-int(circle_point_num/8*7)),:]\n",
    "\n",
    "#-------------------------------------------------------------------"
   ]
  },
  {
   "cell_type": "code",
   "execution_count": null,
   "metadata": {
    "collapsed": false,
    "pycharm": {
     "name": "#%%\n"
    }
   },
   "outputs": [],
   "source": [
    "'''\n",
    "# 创建黑色背景图片\n",
    "height, width = 480, 640\n",
    "black_image = np.zeros((height, width), dtype=np.uint8)\n",
    "\n",
    "# 给定的点坐标列表（示例）\n",
    "point_coordinates = circle_point\n",
    "\n",
    "# 在图片上标记白色点\n",
    "for point in point_coordinates:\n",
    "  x, y = int(point[0]),int(point[1])\n",
    "  # 确保点在图片范围内\n",
    "  if 0 <= x < width and 0 <= y < height:\n",
    "    black_image[x, y] = 255  # 白色点\n",
    "\n",
    "# 使用 Matplotlib 显示图片\n",
    "plt.imshow(black_image, cmap='gray')\n",
    "plt.axis('off')  # 不显示坐标轴\n",
    "plt.show()\n",
    "#'''"
   ]
  },
  {
   "cell_type": "code",
   "execution_count": null,
   "metadata": {
    "collapsed": false,
    "pycharm": {
     "name": "#%%\n"
    }
   },
   "outputs": [],
   "source": [
    "# ser.close()\n",
    "# ser = serial.Serial('COM10', 115200)\n",
    "# 第1个数正上负下\n",
    "rotate=np.ones(2)\n",
    "rotate[0]=5\n",
    "# 第2个数，正左负右\n",
    "rotate[1]=-5\n",
    "data = convert_to_two_digits(int(rotate[0]))+convert_to_two_digits(int(rotate[1]))\n",
    "encoded_data = data.encode()\n",
    "ser.write(encoded_data)"
   ]
  },
  {
   "cell_type": "code",
   "execution_count": null,
   "metadata": {
    "collapsed": false,
    "pycharm": {
     "name": "#%%\n"
    }
   },
   "outputs": [],
   "source": [
    "''' 以下是动态工作区-----------------------------------------------------------------------------------'''\n",
    "# move_to_the_point(dis_aim(要求的最终精度),speed(1~10),sleep_time(暂停的时间),aim_center(最终的目标点))\n",
    "# 现将点移动至中心点\n",
    "move_to_the_point(5,3,circle_center,0.1,red_center)\n",
    "buzzer_open()"
   ]
  },
  {
   "cell_type": "code",
   "execution_count": null,
   "metadata": {
    "collapsed": false,
    "pycharm": {
     "name": "#%%\n"
    }
   },
   "outputs": [],
   "source": [
    "# 遍历所有的提取出来的点,这里是画正方形\n",
    "# move_to_the_point(dis_aim(要求的最终精度),speed(1~10),aim_center(最终的目标点),sleep_time(暂停的时间))\n",
    "for point in range(0, np.size(k_angle)-1):\n",
    "    point_center=square_point[point,:]\n",
    "    move_to_the_point(10,3,point_center,0.1,red_center)\n",
    "buzzer_open()"
   ]
  },
  {
   "cell_type": "code",
   "execution_count": null,
   "metadata": {
    "collapsed": false,
    "pycharm": {
     "is_executing": true,
     "name": "#%%\n"
    }
   },
   "outputs": [],
   "source": [
    "# 遍历所有的提取出来的点\n",
    "# 这里是画圆\n",
    "# move_to_the_point(dis_aim(要求的最终精度),speed(1~10),aim_center(最终的目标点),sleep_time(暂停的时间))\n",
    "for point in range(0, np.size(k_angle)):\n",
    "    point_center=circle_point[point,:]\n",
    "    move_to_the_point(12,3,point_center,0.1,red_center)\n",
    "buzzer_open()"
   ]
  },
  {
   "cell_type": "code",
   "execution_count": null,
   "metadata": {
    "collapsed": false,
    "pycharm": {
     "name": "#%%\n"
    }
   },
   "outputs": [],
   "source": [
    "'''\n",
    "save_folder = 'C:\\Parallel_World\\BaiduSyncdisk\\My_World\\Software_World\\Python\\Computer_Vision\\Photo_Data\\All_photo\\\\'  # 请替换为实际的文件夹路径\n",
    "# 构造保存数据的文件路径\n",
    "save_file_path = f'{save_folder}/saved_data.npy'\n",
    "# 使用NumPy保存数据到文件\n",
    "np.save(save_folder+'image.npy', image)\n",
    "#'''"
   ]
  },
  {
   "cell_type": "code",
   "execution_count": null,
   "metadata": {
    "collapsed": false,
    "pycharm": {
     "name": "#%%\n"
    }
   },
   "outputs": [],
   "source": [
    "#绿激光\n",
    "while True:\n",
    "    green_center=get_green_point(capture,green_center)\n",
    "    red_center=get_green_point(capture,red_center)\n",
    "    dis_center=np.linalg.norm(green_center-red_center)\n",
    "    while dis_center>3:\n",
    "        green_center=get_green_point(capture,green_center)\n",
    "        red_center=get_green_point(capture,red_center)\n",
    "        move_to_the_point(12,3,green_center,0.1,red_center)"
   ]
  }
 ],
 "metadata": {
  "kernelspec": {
   "display_name": "Python 3",
   "language": "python",
   "name": "python3"
  },
  "language_info": {
   "codemirror_mode": {
    "name": "ipython",
    "version": 3
   },
   "file_extension": ".py",
   "mimetype": "text/x-python",
   "name": "python",
   "nbconvert_exporter": "python",
   "pygments_lexer": "ipython3",
   "version": "3.9.18"
  }
 },
 "nbformat": 4,
 "nbformat_minor": 0
}
