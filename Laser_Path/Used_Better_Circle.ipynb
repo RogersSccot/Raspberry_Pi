{
 "cells": [
  {
   "cell_type": "code",
   "execution_count": 1,
   "outputs": [],
   "source": [
    "# 导入必要的函数库\n",
    "import cv2\n",
    "import numpy as np\n",
    "import math\n",
    "import matplotlib.pyplot as plt\n",
    "import serial\n",
    "import time"
   ],
   "metadata": {
    "collapsed": false,
    "pycharm": {
     "name": "#%%\n"
    }
   }
  },
  {
   "cell_type": "code",
   "execution_count": 2,
   "outputs": [],
   "source": [
    "# 打开摄像机和端口，不轻易运行\n",
    "capture=cv2.VideoCapture(1)\n",
    "_,image=capture.read()\n",
    "gray=cv2.cvtColor(image, cv2.COLOR_BGR2GRAY)\n",
    "# ser.close()\n",
    "ser = serial.Serial('COM10', 115200)"
   ],
   "metadata": {
    "collapsed": false,
    "pycharm": {
     "name": "#%%\n"
    }
   }
  },
  {
   "cell_type": "code",
   "execution_count": 136,
   "outputs": [],
   "source": [
    "# 定义字符串的转换方式\n",
    "# 先定义最大速度\n",
    "max_speed=10\n",
    "def convert_to_two_digits(number):\n",
    "    if 10 > number >= 0:\n",
    "        return '+0' + str(number)\n",
    "    if 100 > number >= 10:\n",
    "        return '+' + str(min(number,max_speed))\n",
    "    if 0 > number > -10:\n",
    "        return '-0' + str(number)[1]\n",
    "    if -10 >= number > -100:\n",
    "        return '-'+str(min(abs(number),max_speed))\n",
    "# 在整个图片中获取红色点\n",
    "# 在整个image所获取的图片中[:,:,1]是绿色图片,[:,:,2]是红色图片\n",
    "def get_red_point(capture, red_center):\n",
    "    _,image=capture.read()\n",
    "    # 找到红色的点\n",
    "    image_red_true=image[:,:,1].astype(np.float32)\n",
    "    image_back=(image[:,:,2].astype(np.float32)+image[:,:,0].astype(np.float32))/2\n",
    "    image_back=image_back.astype(np.float32)\n",
    "    image_red=np.abs(image_red_true-image_back)\n",
    "    # image_red=image[:,:,1]\n",
    "    image_red=image_red.astype(np.uint8)\n",
    "    red = np.array(np.argwhere(image_red>70))\n",
    "    # 红色中心点坐标\n",
    "    if red.shape[0]>2:\n",
    "        red_center=np.ones(2)\n",
    "        red_center[0]=int(np.sum(red[:,0])/(np.size(red[:,0])+0.001))\n",
    "        red_center[1]=int(np.sum(red[:,1])/(np.size(red[:,0])+0.001))\n",
    "    else:\n",
    "        pass\n",
    "    return(red_center)\n",
    "# 将红点移动到目标点\n",
    "def move_to_the_point(dis_aim,speed,aim_center,sleep_time,red_center):\n",
    "    dis_center=12\n",
    "    speed=speed/10\n",
    "    # while True:\n",
    "    while dis_center>dis_aim:\n",
    "        get_red_point(capture, red_center)\n",
    "        dis_center=np.linalg.norm(aim_center-red_center)\n",
    "        rotate=(aim_center-red_center)*speed\n",
    "        rotate=-rotate\n",
    "        # 第1个数正上负下  第2个数，正左负右\n",
    "        data = convert_to_two_digits(int(rotate[0]))+convert_to_two_digits(int(rotate[1]))\n",
    "        encoded_data = data.encode()\n",
    "        ser.write(encoded_data)\n",
    "        time.sleep(sleep_time)\n",
    "# 蜂鸣器响3秒\n",
    "def buzzer_open():\n",
    "    data = \"ffffff\"\n",
    "    encoded_data = data.encode()\n",
    "    ser.write(encoded_data)"
   ],
   "metadata": {
    "collapsed": false,
    "pycharm": {
     "name": "#%%\n"
    }
   }
  },
  {
   "cell_type": "code",
   "execution_count": 134,
   "outputs": [
    {
     "data": {
      "text/plain": "6"
     },
     "execution_count": 134,
     "metadata": {},
     "output_type": "execute_result"
    }
   ],
   "source": [
    "# ser.close()\n",
    "# ser = serial.Serial('COM10', 115200)\n",
    "# 第1个数正上负下\n",
    "rotate=np.ones(2)\n",
    "rotate[0]=5\n",
    "# 第2个数，正左负右\n",
    "rotate[1]=0\n",
    "data = convert_to_two_digits(int(rotate[0]))+convert_to_two_digits(int(rotate[1]))\n",
    "encoded_data = data.encode()\n",
    "ser.write(encoded_data)"
   ],
   "metadata": {
    "collapsed": false,
    "pycharm": {
     "name": "#%%\n"
    }
   }
  },
  {
   "cell_type": "code",
   "execution_count": 137,
   "outputs": [],
   "source": [
    "# 定义卷积核\n",
    "kernel = np.array([\n",
    "[0,0,0,0,0,0,0,1,1,1,1,1,1,1,1,0,0,0,0,0,0,0],\n",
    "[0,0,0,0,0,0,1,1,1,1,1,1,1,1,1,1,0,0,0,0,0,0],\n",
    "[0,0,0,0,0,1,1,1,1,1,1,1,1,1,1,1,1,0,0,0,0,0],\n",
    "[0,0,0,0,1,1,1,1,1,1,1,1,1,1,1,1,1,1,0,0,0,0],\n",
    "[0,0,0,1,1,1,1,1,1,1,1,1,1,1,1,1,1,1,1,0,0,0],\n",
    "[0,0,1,1,1,1,1,0,0,0,0,0,0,0,0,1,1,1,1,1,0,0],\n",
    "[0,1,1,1,1,1,0,0,0,0,0,0,0,0,0,0,1,1,1,1,1,0],\n",
    "[1,1,1,1,1,0,0,0,0,0,0,0,0,0,0,0,0,1,1,1,1,1],\n",
    "[1,1,1,1,1,0,0,0,0,0,0,0,0,0,0,0,0,1,1,1,1,1],\n",
    "[1,1,1,1,1,0,0,0,0,0,0,0,0,0,0,0,0,1,1,1,1,1],\n",
    "[1,1,1,1,1,0,0,0,0,0,0,0,0,0,0,0,0,1,1,1,1,1],\n",
    "[1,1,1,1,1,0,0,0,0,0,0,0,0,0,0,0,0,1,1,1,1,1],\n",
    "[1,1,1,1,1,0,0,0,0,0,0,0,0,0,0,0,0,1,1,1,1,1],\n",
    "[1,1,1,1,1,0,0,0,0,0,0,0,0,0,0,0,0,1,1,1,1,1],\n",
    "[1,1,1,1,1,0,0,0,0,0,0,0,0,0,0,0,0,1,1,1,1,1],\n",
    "[0,1,1,1,1,1,0,0,0,0,0,0,0,0,0,0,1,1,1,1,1,0],\n",
    "[0,0,1,1,1,1,1,0,0,0,0,0,0,0,0,1,1,1,1,1,0,0],\n",
    "[0,0,0,1,1,1,1,1,1,1,1,1,1,1,1,1,1,1,1,0,0,0],\n",
    "[0,0,0,0,1,1,1,1,1,1,1,1,1,1,1,1,1,1,0,0,0,0],\n",
    "[0,0,0,0,0,1,1,1,1,1,1,1,1,1,1,1,1,0,0,0,0,0],\n",
    "[0,0,0,0,0,0,1,1,1,1,1,1,1,1,1,1,0,0,0,0,0,0],\n",
    "[0,0,0,0,0,0,0,1,1,1,1,1,1,1,1,0,0,0,0,0,0,0],\n",
    "])*0.01\n",
    "a=11\n",
    "b=11"
   ],
   "metadata": {
    "collapsed": false,
    "pycharm": {
     "name": "#%%\n"
    }
   }
  },
  {
   "cell_type": "code",
   "execution_count": 138,
   "outputs": [
    {
     "ename": "ValueError",
     "evalue": "invalid literal for int() with base 10: ''",
     "output_type": "error",
     "traceback": [
      "\u001B[1;31m---------------------------------------------------------------------------\u001B[0m",
      "\u001B[1;31mValueError\u001B[0m                                Traceback (most recent call last)",
      "Cell \u001B[1;32mIn[138], line 33\u001B[0m\n\u001B[0;32m     31\u001B[0m cv2\u001B[38;5;241m.\u001B[39mimshow(\u001B[38;5;124m'\u001B[39m\u001B[38;5;124medges_show\u001B[39m\u001B[38;5;124m'\u001B[39m, edges_show)\n\u001B[0;32m     32\u001B[0m cv2\u001B[38;5;241m.\u001B[39mwaitKey(\u001B[38;5;241m1\u001B[39m)\n\u001B[1;32m---> 33\u001B[0m OK\u001B[38;5;241m=\u001B[39m\u001B[38;5;28;43mint\u001B[39;49m\u001B[43m(\u001B[49m\u001B[38;5;28;43minput\u001B[39;49m\u001B[43m(\u001B[49m\u001B[38;5;124;43mf\u001B[39;49m\u001B[38;5;124;43m\"\u001B[39;49m\u001B[38;5;124;43mpoint \u001B[39;49m\u001B[38;5;132;43;01m{\u001B[39;49;00m\u001B[43mi\u001B[49m\u001B[38;5;241;43m+\u001B[39;49m\u001B[38;5;241;43m1\u001B[39;49m\u001B[38;5;132;43;01m}\u001B[39;49;00m\u001B[38;5;124;43m OK? if OK input 1,not ok input 0\u001B[39;49m\u001B[38;5;124;43m\"\u001B[39;49m\u001B[43m)\u001B[49m\u001B[43m)\u001B[49m\n\u001B[0;32m     34\u001B[0m \u001B[38;5;28;01mif\u001B[39;00m OK\u001B[38;5;241m==\u001B[39m\u001B[38;5;241m1\u001B[39m:\n\u001B[0;32m     35\u001B[0m     border_point[i,:]\u001B[38;5;241m=\u001B[39mred_center\n",
      "\u001B[1;31mValueError\u001B[0m: invalid literal for int() with base 10: ''"
     ]
    }
   ],
   "source": [
    "''' 以下是静态工作区-----------------------------------------------------------------------------------'''\n",
    "# 首先要获取路径的边界\n",
    "# 对于获取的路径边界，我们将路径边框的四个点都获取出来，之后，将外围的环境都设为0\n",
    "# 然后对于所获取的点，我们再将我们的路径给规划出来\n",
    "border_point=np.ones((4,2))\n",
    "red_center=np.ones(2)\n",
    "red_center[0]=240\n",
    "red_center[1]=320\n",
    "while True:\n",
    "    change=int(input('whether to change the point ,Yes input 1 ,No input 0'))\n",
    "    if change==0:\n",
    "        break\n",
    "    if change==1:\n",
    "        i=int(input('which point you like to change? No 1~4'))-1\n",
    "        while True:\n",
    "            OK=0\n",
    "            # 分别读取4个边界点的坐标\n",
    "            while OK==0:\n",
    "                _,image=capture.read()\n",
    "                # 对于所获得的图像，首先计算他的几何中心\n",
    "                # 先转为灰度图\n",
    "                gray=cv2.cvtColor(image, cv2.COLOR_BGR2GRAY)\n",
    "                # edges_show=cv2.Canny(gray, 240, 200)\n",
    "                edges_show=gray\n",
    "                # 获取边界\n",
    "                red_center=get_red_point(capture,red_center)\n",
    "                if (int(red_center[0]-a)>0)&(int(red_center[0]+b)<480)&(int(red_center[1]-a)>0)&(int(red_center[1]+b)<640):\n",
    "                    edges_show[int(red_center[0]-a):int(red_center[0]+b),int(red_center[1]-a):int(red_center[1]+b)]=kernel*25400\n",
    "                else:\n",
    "                    edges_show[240-a:240+b,320-a:320+b]=kernel*25400\n",
    "                cv2.imshow('edges_show', edges_show)\n",
    "                cv2.waitKey(1)\n",
    "                OK=int(input(f\"point {i+1} OK? if OK input 1,not ok input 0\"))\n",
    "                if OK==1:\n",
    "                    border_point[i,:]=red_center\n",
    "            break\n",
    "# 首先计算整个图形的中心点\n",
    "circle_center=np.ones(2)\n",
    "circle_center[0]=int(np.sum(border_point[:,0])/(np.size(border_point[:,0])+0.001))\n",
    "circle_center[1]=int(np.sum(border_point[:,1])/(np.size(border_point[:,1])+0.001))"
   ],
   "metadata": {
    "collapsed": false,
    "pycharm": {
     "name": "#%%\n"
    }
   }
  },
  {
   "cell_type": "code",
   "execution_count": 16,
   "outputs": [
    {
     "data": {
      "text/plain": "<matplotlib.image.AxesImage at 0x226b73b8ac0>"
     },
     "execution_count": 16,
     "metadata": {},
     "output_type": "execute_result"
    },
    {
     "data": {
      "text/plain": "<Figure size 640x480 with 1 Axes>",
      "image/png": "[encoded data removed]"
     },
     "metadata": {},
     "output_type": "display_data"
    }
   ],
   "source": [
    "# 在获取4个中心点过后，我们去计算他们的路径\n",
    "# 首先原图像上将完整的图形绘制出来\n",
    "image_center=np.zeros(np.shape(gray))\n",
    "for i in [0,2]:#计算每条直线的解析式，同时将上面点标为255，其余的点标为0\n",
    "    k_line=(border_point[i,0]-border_point[(i+1)%4,0])/(border_point[i,1]-border_point[(i+1)%4,1]+0.001)\n",
    "    b_line=border_point[i,0]-k_line*border_point[i,1]\n",
    "    for x in range(int(min(border_point[i,1],border_point[(i+1)%4,1])),int(max(border_point[i,1],border_point[(i+1)%4,1]))):\n",
    "        y=int(k_line*x+b_line)\n",
    "        image_center[y,x]=255\n",
    "for i in [1,3]:#计算每条直线的解析式，同时将上面点标为255，其余的点标为0\n",
    "    k_line=(border_point[i,1]-border_point[(i+1)%4,1])/(border_point[i,0]-border_point[(i+1)%4,0]+0.001)\n",
    "    b_line=border_point[i,1]-k_line*border_point[i,0]\n",
    "    for x in range(int(min(border_point[i,0],border_point[(i+1)%4,0])),int(max(border_point[i,0],border_point[(i+1)%4,0]))):\n",
    "        y=int(k_line*x+b_line)\n",
    "        image_center[x,y]=255\n",
    "plt.imshow(image_center, cmap='gray')"
   ],
   "metadata": {
    "collapsed": false,
    "pycharm": {
     "name": "#%%\n"
    }
   }
  },
  {
   "cell_type": "code",
   "execution_count": 17,
   "outputs": [
    {
     "data": {
      "text/plain": "<matplotlib.image.AxesImage at 0x226b741b970>"
     },
     "execution_count": 17,
     "metadata": {},
     "output_type": "execute_result"
    },
    {
     "data": {
      "text/plain": "<Figure size 640x480 with 1 Axes>",
      "image/png": "[encoded data removed]"
     },
     "metadata": {},
     "output_type": "display_data"
    }
   ],
   "source": [
    "# 然后获取每条直线的斜率（方向）,范围是0到2*pi\n",
    "k_angle = np.array(range(0, int(200 * (2 * math.pi)), 15)) / 200 - math.pi\n",
    "# 获取边框上的点，用于之后遍历路径\n",
    "stripe = np.array(np.where(image_center))\n",
    "stripe_center = circle_center\n",
    "# 获取整个图面的中心点\n",
    "# 所有的点都是以行列的形式标注的，先取行，再取列\n",
    "image_center[int(stripe_center[0]), int(stripe_center[1])] = 255\n",
    "# 接下来找出每个有值的点所具有对应三角值\n",
    "# 找出相对位置\n",
    "k_re = stripe[0, :] - stripe_center[0], stripe[1, :] - stripe_center[1]\n",
    "k_re = np.array(k_re)\n",
    "k_stripe_pi = np.arctan2(k_re[0, :], k_re[1, :])\n",
    "# 找出所有的斜率对应的最接近的点\n",
    "# 将找出的边界点存入对应的array矩阵中\n",
    "road=np.zeros(np.shape(gray))\n",
    "circle_point=np.ones((np.size(k_angle),2))\n",
    "for k in range(0, np.size(k_angle)):\n",
    "    k_rela = np.abs(k_stripe_pi - k_angle[k])\n",
    "    min_index = np.argmin(k_rela)\n",
    "    road[int(stripe[0, min_index]), int(stripe[1, min_index])] = 255\n",
    "    circle_point[k,:]=[int(stripe[0, min_index]), int(stripe[1, min_index])]\n",
    "point_num=np.shape(circle_point)[0]\n",
    "square_point=np.zeros(np.shape(circle_point))\n",
    "square_point[0:int(point_num/8*7),:]=circle_point[(int(point_num)-int(point_num/8*7))-1:point_num-1,:]\n",
    "square_point[int(point_num/8*7)-1:int(point_num)-1,:]=circle_point[0:int(point_num-int(point_num/8*7)),:]\n",
    "plt.imshow(road, cmap='gray')"
   ],
   "metadata": {
    "collapsed": false,
    "pycharm": {
     "name": "#%%\n"
    }
   }
  },
  {
   "cell_type": "code",
   "execution_count": 20,
   "outputs": [
    {
     "data": {
      "text/plain": "6"
     },
     "execution_count": 20,
     "metadata": {},
     "output_type": "execute_result"
    }
   ],
   "source": [
    "''' 以下是动态工作区-----------------------------------------------------------------------------------'''\n",
    "# move_to_the_point(dis_aim(要求的最终精度),speed(1~10),aim_center(最终的目标点),sleep_time(暂停的时间))\n",
    "# 现将点移动至中心点\n",
    "move_to_the_point(12,3,circle_center,0.1,red_center)\n",
    "buzzer_open()"
   ],
   "metadata": {
    "collapsed": false,
    "pycharm": {
     "name": "#%%\n"
    }
   }
  },
  {
   "cell_type": "code",
   "execution_count": 25,
   "outputs": [
    {
     "data": {
      "text/plain": "6"
     },
     "execution_count": 25,
     "metadata": {},
     "output_type": "execute_result"
    }
   ],
   "source": [
    "# 遍历所有的提取出来的点,这里是画正方形\n",
    "# move_to_the_point(dis_aim(要求的最终精度),speed(1~10),aim_center(最终的目标点),sleep_time(暂停的时间))\n",
    "for point in range(0, np.size(k_angle)-1):\n",
    "    point_center=square_point[point,:]\n",
    "    move_to_the_point(12,3,point_center,0.1,red_center)\n",
    "buzzer_open()"
   ],
   "metadata": {
    "collapsed": false,
    "pycharm": {
     "name": "#%%\n"
    }
   }
  },
  {
   "cell_type": "code",
   "execution_count": 1,
   "outputs": [
    {
     "ename": "NameError",
     "evalue": "name 'np' is not defined",
     "output_type": "error",
     "traceback": [
      "\u001B[1;31m---------------------------------------------------------------------------\u001B[0m",
      "\u001B[1;31mNameError\u001B[0m                                 Traceback (most recent call last)",
      "Cell \u001B[1;32mIn[1], line 3\u001B[0m\n\u001B[0;32m      1\u001B[0m \u001B[38;5;66;03m# 计算圆的路径\u001B[39;00m\n\u001B[0;32m      2\u001B[0m \u001B[38;5;66;03m# 计算原本的正方形边长\u001B[39;00m\n\u001B[1;32m----> 3\u001B[0m side\u001B[38;5;241m=\u001B[39m\u001B[43mnp\u001B[49m\u001B[38;5;241m.\u001B[39mzeros(\u001B[38;5;241m4\u001B[39m)\n\u001B[0;32m      4\u001B[0m \u001B[38;5;28;01mfor\u001B[39;00m i \u001B[38;5;129;01min\u001B[39;00m \u001B[38;5;28mrange\u001B[39m(\u001B[38;5;241m4\u001B[39m):\n\u001B[0;32m      5\u001B[0m     side[i]\u001B[38;5;241m=\u001B[39mnp\u001B[38;5;241m.\u001B[39mlinalg\u001B[38;5;241m.\u001B[39mnorm(border_point[i,:]\u001B[38;5;241m-\u001B[39mborder_point[(i\u001B[38;5;241m+\u001B[39m\u001B[38;5;241m1\u001B[39m)\u001B[38;5;241m%\u001B[39m\u001B[38;5;241m4\u001B[39m,:])\n",
      "\u001B[1;31mNameError\u001B[0m: name 'np' is not defined"
     ]
    }
   ],
   "source": [
    "# 计算圆的路径\n",
    "# 计算原本的正方形边长\n",
    "side=np.zeros(4)\n",
    "for i in range(4):\n",
    "    side[i]=np.linalg.norm(border_point[i,:]-border_point[(i+1)%4,:])\n",
    "length_side=np.mean(side)/2\n",
    "length_basic=np.zeros(np.shape(k_angle))\n",
    "\n",
    "for i in range(np.size(k_angle)):\n",
    "    angle=k_angle[i]\n",
    "    if -3/4*math.pi>=angle>=-math.pi:\n",
    "        length_basic[i]=abs(length_side/np.cos(angle))\n",
    "    if -1/4*math.pi>angle>=-3/4*math.pi:\n",
    "        length_basic[i]=abs(length_side/np.sin(angle))\n",
    "    if 1/4*math.pi>angle>=-1/4*math.pi:\n",
    "        length_basic[i]=abs(length_side/np.cos(angle))\n",
    "    if 3/4*math.pi>angle>=1/4*math.pi:\n",
    "        length_basic[i]=abs(length_side/np.sin(angle))\n",
    "    if math.pi>=angle>=3/4*math.pi:\n",
    "        length_basic[i]=abs(length_side/np.cos(angle))\n",
    "\n",
    "# 这是我们计算出了原本该有的长度\n",
    "# 接下来我们计算读取的长度\n",
    "length_true=np.linalg.norm(circle_point-circle_center,axis=1)\n",
    "length_re=length_true/length_basic\n",
    "round_R=np.ones(np.shape(k_angle)[0])*length_side*length_re\n",
    "# 在找到所有的点的距离后，开始将所有的点回到原来的图像中\n",
    "round_point=np.ones(np.shape(circle_point))\n",
    "for i in range(np.size(k_angle)):# 分别找到对应角度和长度\n",
    "    R=round_R[i]\n",
    "    angle=k_angle[i]\n",
    "    x=np.cos(angle)*R+circle_center[1]\n",
    "    y=np.sin(angle)*R+circle_center[0]\n",
    "    round_point[i,:]=np.array([int(y),int(x)])\n",
    "    image_center[int(y),int(x)]=255\n",
    "plt.imshow(image_center, cmap='gray')"
   ],
   "metadata": {
    "collapsed": false,
    "pycharm": {
     "name": "#%%\n"
    }
   }
  },
  {
   "cell_type": "code",
   "execution_count": 28,
   "outputs": [
    {
     "data": {
      "text/plain": "6"
     },
     "execution_count": 28,
     "metadata": {},
     "output_type": "execute_result"
    }
   ],
   "source": [
    "# 在完成第一题后，先将位置回正circle_center\n",
    "# move_to_the_point(dis_aim(要求的最终精度),speed(1~10),aim_center(最终的目标点),sleep_time(暂停的时间))\n",
    "move_to_the_point(12,3,circle_center,0.1,red_center)\n",
    "buzzer_open()"
   ],
   "metadata": {
    "collapsed": false,
    "pycharm": {
     "name": "#%%\n"
    }
   }
  },
  {
   "cell_type": "code",
   "execution_count": null,
   "outputs": [],
   "source": [
    "# 遍历所有的提取出来的点\n",
    "# 这里是画圆\n",
    "# move_to_the_point(dis_aim(要求的最终精度),speed(1~10),aim_center(最终的目标点),sleep_time(暂停的时间))\n",
    "for point in range(0, np.size(k_angle)):\n",
    "    point_center=round_point[point,:]\n",
    "    move_to_the_point(12,3,point_center,0.1,red_center)\n",
    "buzzer_open()"
   ],
   "metadata": {
    "collapsed": false,
    "pycharm": {
     "name": "#%%\n"
    }
   }
  }
 ],
 "metadata": {
  "kernelspec": {
   "display_name": "Python 3",
   "language": "python",
   "name": "python3"
  },
  "language_info": {
   "codemirror_mode": {
    "name": "ipython",
    "version": 2
   },
   "file_extension": ".py",
   "mimetype": "text/x-python",
   "name": "python",
   "nbconvert_exporter": "python",
   "pygments_lexer": "ipython2",
   "version": "2.7.6"
  }
 },
 "nbformat": 4,
 "nbformat_minor": 0
}