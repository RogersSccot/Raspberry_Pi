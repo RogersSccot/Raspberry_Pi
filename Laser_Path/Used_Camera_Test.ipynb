{
 "cells": [
  {
   "cell_type": "code",
   "execution_count": null,
   "outputs": [],
   "source": [
    "import cv2\n",
    "import numpy\n",
    "import numpy as np\n",
    "import serial\n",
    "import math\n",
    "import matplotlib.pyplot as plt\n",
    "import time"
   ],
   "metadata": {
    "collapsed": false,
    "pycharm": {
     "name": "#%%\n",
     "is_executing": true
    }
   }
  },
  {
   "cell_type": "code",
   "execution_count": 2,
   "outputs": [],
   "source": [
    "# 打开摄像机，不轻易运行\n",
    "capture=cv2.VideoCapture(1)\n",
    "# ser.close()\n",
    "# ser = serial.Serial('COM10', 115200)"
   ],
   "metadata": {
    "collapsed": false,
    "pycharm": {
     "name": "#%%\n"
    }
   }
  },
  {
   "cell_type": "code",
   "execution_count": 3,
   "outputs": [],
   "source": [
    "# 定义字符串的转换方式\n",
    "# 先定义最大速度\n",
    "max_speed=10\n",
    "def convert_to_two_digits(number):\n",
    "    if 10 > number >= 0:\n",
    "        return '+0' + str(number)\n",
    "    if 100 > number >= 10:\n",
    "        return '+' + str(min(number,max_speed))\n",
    "    if 0 > number > -10:\n",
    "        return '-0' + str(number)[1]\n",
    "    if -10 >= number > -100:\n",
    "        return '-'+str(min(abs(number),max_speed))\n",
    "# 在整个图片中获取红色点\n",
    "# 在整个image所获取的图片中[:,:,1]是绿色图片,[:,:,2]是红色图片\n",
    "def get_red_point(capture):\n",
    "    _,image=capture.read()\n",
    "    # 找到红色的点\n",
    "    # image_red_true=image[:,:,2]\n",
    "    # image_back=(image[:,:,1]+image[:,:,0])/2\n",
    "    # image_red=image_red_true-image_back\n",
    "    # image_red=image[:,:,2]\n",
    "    image_red_true=image[:,:,1].astype(np.float32)\n",
    "    image_back=(image[:,:,2].astype(np.float32)+image[:,:,0].astype(np.float32))/2\n",
    "    image_back=image_back.astype(np.float32)\n",
    "    image_red=np.abs(image_red_true-image_back)\n",
    "    # image_red=image[:,:,1]\n",
    "    image_red=image_red.astype(np.uint8)\n",
    "    red = np.array(np.argwhere(image_red>70))\n",
    "    # red = np.array(np.argwhere(image_red>240))\n",
    "    # 红色中心点坐标\n",
    "    if red.shape[0]>2:\n",
    "        red_center=np.ones(2)\n",
    "        red_center[0]=int(np.sum(red[:,0])/(np.size(red[:,0])+0.001))\n",
    "        red_center[1]=int(np.sum(red[:,1])/(np.size(red[:,0])+0.001))\n",
    "    else:\n",
    "        pass\n",
    "# # 将红点移动到目标点\n",
    "# def move_to_the_point(dis_aim,speed,aim_center,sleep_time):\n",
    "#     dis_center=12\n",
    "#     speed=speed/10\n",
    "#     # while True:\n",
    "#     while dis_center>dis_aim:\n",
    "#         get_red_point(capture)\n",
    "#         dis_center=np.linalg.norm(aim_center-red_center)\n",
    "#         rotate=(aim_center-red_center)*speed\n",
    "#         rotate=-rotate\n",
    "#         # 第1个数正上负下  第2个数，正左负右\n",
    "#         data = convert_to_two_digits(int(rotate[0]))+convert_to_two_digits(int(rotate[1]))\n",
    "#         encoded_data = data.encode()\n",
    "#         ser.write(encoded_data)\n",
    "#         time.sleep(sleep_time)\n",
    "# # 蜂鸣器响3秒\n",
    "# def buzzer_open():\n",
    "#     data = \"ffffff\"\n",
    "#     encoded_data = data.encode()\n",
    "#     ser.write(encoded_data)"
   ],
   "metadata": {
    "collapsed": false,
    "pycharm": {
     "name": "#%%\n"
    }
   }
  },
  {
   "cell_type": "code",
   "execution_count": 4,
   "outputs": [],
   "source": [
    "# 定义卷积核\n",
    "kernel = np.array([\n",
    "[0,0,0,0,0,0,0,1,1,1,1,1,1,1,1,0,0,0,0,0,0,0],\n",
    "[0,0,0,0,0,0,1,1,1,1,1,1,1,1,1,1,0,0,0,0,0,0],\n",
    "[0,0,0,0,0,1,1,1,1,1,1,1,1,1,1,1,1,0,0,0,0,0],\n",
    "[0,0,0,0,1,1,1,1,1,1,1,1,1,1,1,1,1,1,0,0,0,0],\n",
    "[0,0,0,1,1,1,1,1,1,1,1,1,1,1,1,1,1,1,1,0,0,0],\n",
    "[0,0,1,1,1,1,1,0,0,0,0,0,0,0,0,1,1,1,1,1,0,0],\n",
    "[0,1,1,1,1,1,0,0,0,0,0,0,0,0,0,0,1,1,1,1,1,0],\n",
    "[1,1,1,1,1,0,0,0,0,0,0,0,0,0,0,0,0,1,1,1,1,1],\n",
    "[1,1,1,1,1,0,0,0,0,0,0,0,0,0,0,0,0,1,1,1,1,1],\n",
    "[1,1,1,1,1,0,0,0,0,0,0,0,0,0,0,0,0,1,1,1,1,1],\n",
    "[1,1,1,1,1,0,0,0,0,0,0,0,0,0,0,0,0,1,1,1,1,1],\n",
    "[1,1,1,1,1,0,0,0,0,0,0,0,0,0,0,0,0,1,1,1,1,1],\n",
    "[1,1,1,1,1,0,0,0,0,0,0,0,0,0,0,0,0,1,1,1,1,1],\n",
    "[1,1,1,1,1,0,0,0,0,0,0,0,0,0,0,0,0,1,1,1,1,1],\n",
    "[1,1,1,1,1,0,0,0,0,0,0,0,0,0,0,0,0,1,1,1,1,1],\n",
    "[0,1,1,1,1,1,0,0,0,0,0,0,0,0,0,0,1,1,1,1,1,0],\n",
    "[0,0,1,1,1,1,1,0,0,0,0,0,0,0,0,1,1,1,1,1,0,0],\n",
    "[0,0,0,1,1,1,1,1,1,1,1,1,1,1,1,1,1,1,1,0,0,0],\n",
    "[0,0,0,0,1,1,1,1,1,1,1,1,1,1,1,1,1,1,0,0,0,0],\n",
    "[0,0,0,0,0,1,1,1,1,1,1,1,1,1,1,1,1,0,0,0,0,0],\n",
    "[0,0,0,0,0,0,1,1,1,1,1,1,1,1,1,1,0,0,0,0,0,0],\n",
    "[0,0,0,0,0,0,0,1,1,1,1,1,1,1,1,0,0,0,0,0,0,0],\n",
    "])*0.01\n",
    "a=11\n",
    "b=11"
   ],
   "metadata": {
    "collapsed": false,
    "pycharm": {
     "name": "#%%\n"
    }
   }
  },
  {
   "cell_type": "code",
   "execution_count": 5,
   "outputs": [
    {
     "ename": "KeyboardInterrupt",
     "evalue": "",
     "output_type": "error",
     "traceback": [
      "\u001B[1;31m---------------------------------------------------------------------------\u001B[0m",
      "\u001B[1;31mKeyboardInterrupt\u001B[0m                         Traceback (most recent call last)",
      "Cell \u001B[1;32mIn[5], line 64\u001B[0m\n\u001B[0;32m     62\u001B[0m     cv2\u001B[38;5;241m.\u001B[39mimshow(\u001B[38;5;124m'\u001B[39m\u001B[38;5;124medges_show\u001B[39m\u001B[38;5;124m'\u001B[39m, edges_show)\n\u001B[0;32m     63\u001B[0m     cv2\u001B[38;5;241m.\u001B[39mimshow(\u001B[38;5;124m'\u001B[39m\u001B[38;5;124mred_matrix\u001B[39m\u001B[38;5;124m'\u001B[39m, red_matrix\u001B[38;5;241m*\u001B[39m\u001B[38;5;241m20000\u001B[39m)\n\u001B[1;32m---> 64\u001B[0m     \u001B[43mcv2\u001B[49m\u001B[38;5;241;43m.\u001B[39;49m\u001B[43mwaitKey\u001B[49m\u001B[43m(\u001B[49m\u001B[38;5;241;43m1\u001B[39;49m\u001B[43m)\u001B[49m\n\u001B[0;32m     65\u001B[0m     \u001B[38;5;66;03m# '''\u001B[39;00m\n\u001B[0;32m     66\u001B[0m \u001B[38;5;66;03m#'''\u001B[39;00m\n",
      "\u001B[1;31mKeyboardInterrupt\u001B[0m: "
     ]
    }
   ],
   "source": [
    "# 红 绿 蓝\n",
    "# '''\n",
    "_,image1=capture.read()\n",
    "# 对于所获得的图像，首先计算他的几何中心\n",
    "# 先转为灰度图\n",
    "gray1=cv2.cvtColor(image1, cv2.COLOR_BGR2GRAY)\n",
    "# 获取边界\n",
    "edges=cv2.Canny(gray1, 240, 200)\n",
    "# 打开开关\n",
    "red_center=np.ones(2)\n",
    "red_center[0]=240\n",
    "red_center[1]=320\n",
    "while True:# 首先我们读取摄像头的图片\n",
    "    _,image=capture.read()\n",
    "    # 对于所获得的图像，首先计算他的几何中心\n",
    "    # 先转为灰度图\n",
    "    gray=cv2.cvtColor(image, cv2.COLOR_BGR2GRAY)\n",
    "    edges_show=gray\n",
    "    # 获取边界\n",
    "    image_red_true=image[:,:,1].astype(np.float32)\n",
    "    image_back=(image[:,:,2].astype(np.float32)+image[:,:,0].astype(np.float32))/2\n",
    "    image_back=image_back.astype(np.float32)\n",
    "    image_red=np.abs(image_red_true-image_back)\n",
    "    # image_red=image[:,:,1]\n",
    "    image_red=image_red.astype(numpy.uint8)\n",
    "    red = np.array(np.argwhere(image_red>70))\n",
    "    circle= np.array(np.where(edges))\n",
    "    # 获取红色中心点的坐标\n",
    "    # if red.shape[0]>2:\n",
    "    #     red_center=np.ones(2)\n",
    "    #     red_center[0]=int(np.sum(red[:,0])/(np.size(red[:,0])+0.001))\n",
    "    #     red_center[1]=int(np.sum(red[:,1])/(np.size(red[:,0])+0.001))\n",
    "    # else:\n",
    "    #     red_center=np.ones(2)\n",
    "    #     red_center[0]=240\n",
    "    #     red_center[1]=320\n",
    "    get_red_point(capture)\n",
    "    # 获得边框中心点的坐标\n",
    "    circle_center=np.ones(2)\n",
    "    circle_center[0]=int(np.sum(circle[:,0])/(np.size(circle[:,0])+0.001))\n",
    "    circle_center[1]=int(np.sum(circle[:,1])/(np.size(circle[:,1])+0.001))\n",
    "    # 之后，我们利用卷积操作，计算我们的中心点的边缘与边框\n",
    "    # 首先，创建一个同等大小的矩阵\n",
    "    red_matrix=np.zeros((480,640))\n",
    "    # 叠加点的图像\n",
    "    if (int(red_center[0]-a)>0)&(int(red_center[0]+b)<480)&(int(red_center[1]-a)>0)&(int(red_center[1]+b)<640):\n",
    "        red_matrix[int(red_center[0]-a):int(red_center[0]+b),int(red_center[1]-a):int(red_center[1]+b)]=kernel\n",
    "        edges_show[int(red_center[0]-a):int(red_center[0]+b),int(red_center[1]-a):int(red_center[1]+b)]=kernel*25400\n",
    "    else:\n",
    "        red_matrix[240-a:240+b,320-a:320+b]=kernel\n",
    "        edges_show[240-a:240+b,320-a:320+b]=kernel*25400\n",
    "    # 定义得分\n",
    "    score=np.sum(edges*red_matrix)\n",
    "    # 打印得分\n",
    "    # '''\n",
    "    gray[0,0]=score\n",
    "    cv2.imshow('image_red', image_red)\n",
    "    cv2.imshow('image', image)\n",
    "    cv2.imshow('image_red_true', image[:,:,1])\n",
    "    cv2.imshow('edges', edges)\n",
    "    cv2.imshow('score', gray)\n",
    "    cv2.imshow('edges_show', edges_show)\n",
    "    cv2.imshow('red_matrix', red_matrix*20000)\n",
    "    cv2.waitKey(1)\n",
    "    # '''\n",
    "#'''"
   ],
   "metadata": {
    "collapsed": false,
    "pycharm": {
     "name": "#%%\n"
    }
   }
  },
  {
   "cell_type": "code",
   "execution_count": 20,
   "outputs": [],
   "source": [
    "np.save('Photo_Data\\All_photo\\\\red_matrix.npy', red_matrix)"
   ],
   "metadata": {
    "collapsed": false,
    "pycharm": {
     "name": "#%%\n"
    }
   }
  },
  {
   "cell_type": "code",
   "execution_count": null,
   "outputs": [],
   "source": [],
   "metadata": {
    "collapsed": false,
    "pycharm": {
     "name": "#%%\n"
    }
   }
  }
 ],
 "metadata": {
  "kernelspec": {
   "display_name": "Python 3",
   "language": "python",
   "name": "python3"
  },
  "language_info": {
   "codemirror_mode": {
    "name": "ipython",
    "version": 2
   },
   "file_extension": ".py",
   "mimetype": "text/x-python",
   "name": "python",
   "nbconvert_exporter": "python",
   "pygments_lexer": "ipython2",
   "version": "2.7.6"
  }
 },
 "nbformat": 4,
 "nbformat_minor": 0
}