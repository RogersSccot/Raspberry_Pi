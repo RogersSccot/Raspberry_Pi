{
 "cells": [
  {
   "cell_type": "code",
   "execution_count": 1,
   "outputs": [],
   "source": [
    "import numpy as np\n",
    "import os\n",
    "import serial\n",
    "import math\n",
    "import matplotlib.pyplot as plt\n",
    "import time\n",
    "import cv2"
   ],
   "metadata": {
    "collapsed": false,
    "pycharm": {
     "name": "#%%\n"
    }
   }
  },
  {
   "cell_type": "code",
   "execution_count": 2,
   "outputs": [],
   "source": [
    "capture = cv2.VideoCapture(1)"
   ],
   "metadata": {
    "collapsed": false,
    "pycharm": {
     "name": "#%%\n"
    }
   }
  },
  {
   "cell_type": "code",
   "execution_count": 5,
   "outputs": [],
   "source": [
    "# 定义字符串的转换方式\n",
    "# 先定义最大速度\n",
    "max_speed=10\n",
    "def convert_to_two_digits(number):\n",
    "    if 10 > number >= 0:\n",
    "        return '+0' + str(number)\n",
    "    if 100 > number >= 10:\n",
    "        return '+' + str(min(number,max_speed))\n",
    "    if 0 > number > -10:\n",
    "        return '-0' + str(number)[1]\n",
    "    if -10 >= number > -100:\n",
    "        return '-'+str(min(abs(number),max_speed))\n",
    "# 在整个图片中获取红色点\n",
    "# 在整个image所获取的图片中[:,:,1]是绿色图片,[:,:,2]是红色图片\n",
    "template_image = cv2.imread('point.png')\n",
    "template_gray = cv2.cvtColor(template_image, cv2.COLOR_BGR2GRAY)\n",
    "threshold = 0.8\n",
    "def get_red_point(capture, red_center):\n",
    "    _,image=capture.read()\n",
    "    # # 找到红色的点\n",
    "    # image_red_true=image[:,:,2].astype(np.float32)\n",
    "    # image_back=(image[:,:,1].astype(np.float32)+image[:,:,0].astype(np.float32))/2\n",
    "    # image_back=image_back.astype(np.float32)\n",
    "    # image_red=np.abs(image_red_true-image_back)\n",
    "    # # image_red=image[:,:,1]\n",
    "    # image_red=image_red.astype(np.uint8)\n",
    "    # red = np.array(np.argwhere(image_red>70))\n",
    "    # 红色中心点坐标\n",
    "    image1_red=image[:,:,2].astype(np.float32)\n",
    "    image1_green=image[:,:,1].astype(np.float32)\n",
    "    image1_blue=image[:,:,0].astype(np.float32)\n",
    "    image2=image1_red-(image1_blue+image1_green)/2\n",
    "    image2[image2<0]=0\n",
    "    image2=image2*2\n",
    "    back_gray=image2.astype(np.uint8)\n",
    "    try:\n",
    "        result = cv2.matchTemplate(back_gray, template_gray, cv2.TM_CCOEFF_NORMED)\n",
    "        locations = np.where(result >= threshold)\n",
    "        locations = list(zip(*locations[::-1]))  # 转换为(x, y)坐标\n",
    "        red_center=np.array([int(locations[0][1] + template_image.shape[0] / 2),int(locations[0][0] + template_image.shape[1] / 2)])\n",
    "        # red_center=np.array([int(locations[0][0] + template_image.shape[1] / 2),int(locations[0][1] + template_image.shape[0] / 2)])\n",
    "    except cv2.error:\n",
    "        red_center=red_center\n",
    "    # if red.shape[0]>2:\n",
    "    #     red_center=np.ones(2)\n",
    "    #     red_center[0]=int(np.sum(red[:,0])/(np.size(red[:,0])+0.001))\n",
    "    #     red_center[1]=int(np.sum(red[:,1])/(np.size(red[:,0])+0.001))\n",
    "    # else:\n",
    "    #     pass\n",
    "    return red_center\n",
    "# 先降低摄像头曝光度，然后把图片rgb通道分离，用r通道减掉b通道，然后把得到的图片中像素小于等于0的像素值直接置为0（可以用max函数与0做比较），接着把把图片每个像素点的值乘以一个系数（我当时取的3,不合适就自己调一下），然后再一次二值化（二值化阈值自己调），这个时候图像上应该会有个小白点，这个白点应该就是激光点。通道相减有个好处，相减的过程中白色和黑色都会被消去,相当于做了差分,把小于零的点全部置为0后再乘以系数相当于一个放大作用，只放大r值大于g值的部分,这个部分就是激光点,然后做一次二值化得到的白色区域应该就是激光点,因为激光点中心比较亮，你们在摄像头里看到的可能是中间是白色，外围是红色，用这个方法处理因为白色会被消除，所以最后结果可能是个白圈,就以白圈中心做为激光点位置就行,或者就做个膨胀,把圈填满\n",
    "# 在整个image所获取的图片中[:,:,1]是绿色图片,[:,:,2]是红色图片"
   ],
   "metadata": {
    "collapsed": false,
    "pycharm": {
     "name": "#%%\n"
    }
   }
  },
  {
   "cell_type": "code",
   "execution_count": 6,
   "outputs": [],
   "source": [
    "# 文件夹路径\n",
    "# folder_path = 'C:\\Parallel_World\\BaiduSyncdisk\\My_World\\Software_World\\Python\\Computer_Vision\\Photo_Data\\All_photo\\\\'\n",
    "# # # 获取文件夹中的所有.npy文件\n",
    "# # file_names = [f for f in os.listdir(folder_path) if f.endswith('.npy')]\n",
    "# circle=np.load(folder_path+'circle.npy')\n",
    "# circle_center=np.load(folder_path+'circle_center.npy')\n",
    "# edges=np.load(folder_path+'edges.npy')\n",
    "# edges_show=np.load(folder_path+'edges_show.npy')\n",
    "# gray=np.load(folder_path+'gray.npy')\n",
    "# gray1=np.load(folder_path+'gray1.npy')\n",
    "# image=np.load(folder_path+'image.npy')\n",
    "# image1=np.load(folder_path+'image1.npy')\n",
    "# image_back=np.load(folder_path+'image_back.npy')\n",
    "# image_red=np.load(folder_path+'image_red.npy')\n",
    "# image_red_true=np.load(folder_path+'image_red_true.npy')\n",
    "# kernel=np.load(folder_path+'kernel.npy')\n",
    "# red=np.load(folder_path+'red.npy')\n",
    "# red_center=np.load(folder_path+'red_center.npy')\n",
    "# red_matrix=np.load(folder_path+'red_matrix.npy')"
   ],
   "metadata": {
    "collapsed": false,
    "pycharm": {
     "name": "#%%\n"
    }
   }
  },
  {
   "cell_type": "code",
   "execution_count": 7,
   "outputs": [],
   "source": [
    "# 定义卷积核\n",
    "kernel = np.array([\n",
    "[0,0,0,0,0,0,0,1,1,1,1,1,1,1,1,0,0,0,0,0,0,0],\n",
    "[0,0,0,0,0,0,1,1,1,1,1,1,1,1,1,1,0,0,0,0,0,0],\n",
    "[0,0,0,0,0,1,1,1,1,1,1,1,1,1,1,1,1,0,0,0,0,0],\n",
    "[0,0,0,0,1,1,1,1,1,1,1,1,1,1,1,1,1,1,0,0,0,0],\n",
    "[0,0,0,1,1,1,1,1,1,1,1,1,1,1,1,1,1,1,1,0,0,0],\n",
    "[0,0,1,1,1,1,1,0,0,0,0,0,0,0,0,1,1,1,1,1,0,0],\n",
    "[0,1,1,1,1,1,0,0,0,0,0,0,0,0,0,0,1,1,1,1,1,0],\n",
    "[1,1,1,1,1,0,0,0,0,0,0,0,0,0,0,0,0,1,1,1,1,1],\n",
    "[1,1,1,1,1,0,0,0,0,0,0,0,0,0,0,0,0,1,1,1,1,1],\n",
    "[1,1,1,1,1,0,0,0,0,0,0,0,0,0,0,0,0,1,1,1,1,1],\n",
    "[1,1,1,1,1,0,0,0,0,0,0,0,0,0,0,0,0,1,1,1,1,1],\n",
    "[1,1,1,1,1,0,0,0,0,0,0,0,0,0,0,0,0,1,1,1,1,1],\n",
    "[1,1,1,1,1,0,0,0,0,0,0,0,0,0,0,0,0,1,1,1,1,1],\n",
    "[1,1,1,1,1,0,0,0,0,0,0,0,0,0,0,0,0,1,1,1,1,1],\n",
    "[1,1,1,1,1,0,0,0,0,0,0,0,0,0,0,0,0,1,1,1,1,1],\n",
    "[0,1,1,1,1,1,0,0,0,0,0,0,0,0,0,0,1,1,1,1,1,0],\n",
    "[0,0,1,1,1,1,1,0,0,0,0,0,0,0,0,1,1,1,1,1,0,0],\n",
    "[0,0,0,1,1,1,1,1,1,1,1,1,1,1,1,1,1,1,1,0,0,0],\n",
    "[0,0,0,0,1,1,1,1,1,1,1,1,1,1,1,1,1,1,0,0,0,0],\n",
    "[0,0,0,0,0,1,1,1,1,1,1,1,1,1,1,1,1,0,0,0,0,0],\n",
    "[0,0,0,0,0,0,1,1,1,1,1,1,1,1,1,1,0,0,0,0,0,0],\n",
    "[0,0,0,0,0,0,0,1,1,1,1,1,1,1,1,0,0,0,0,0,0,0],\n",
    "])*0.01\n",
    "a=11\n",
    "b=11"
   ],
   "metadata": {
    "collapsed": false,
    "pycharm": {
     "name": "#%%\n"
    }
   }
  },
  {
   "cell_type": "code",
   "execution_count": 11,
   "outputs": [
    {
     "ename": "KeyboardInterrupt",
     "evalue": "",
     "output_type": "error",
     "traceback": [
      "\u001B[1;31m---------------------------------------------------------------------------\u001B[0m",
      "\u001B[1;31mKeyboardInterrupt\u001B[0m                         Traceback (most recent call last)",
      "\u001B[1;32m~\\AppData\\Local\\Temp\\ipykernel_1884\\679051885.py\u001B[0m in \u001B[0;36m<module>\u001B[1;34m\u001B[0m\n\u001B[0;32m     12\u001B[0m \u001B[0mred_center\u001B[0m\u001B[1;33m[\u001B[0m\u001B[1;36m1\u001B[0m\u001B[1;33m]\u001B[0m\u001B[1;33m=\u001B[0m\u001B[1;36m320\u001B[0m\u001B[1;33m\u001B[0m\u001B[1;33m\u001B[0m\u001B[0m\n\u001B[0;32m     13\u001B[0m \u001B[1;32mwhile\u001B[0m \u001B[1;32mTrue\u001B[0m\u001B[1;33m:\u001B[0m\u001B[1;31m# 首先我们读取摄像头的图片\u001B[0m\u001B[1;33m\u001B[0m\u001B[1;33m\u001B[0m\u001B[0m\n\u001B[1;32m---> 14\u001B[1;33m     \u001B[0m_\u001B[0m\u001B[1;33m,\u001B[0m\u001B[0mimage\u001B[0m\u001B[1;33m=\u001B[0m\u001B[0mcapture\u001B[0m\u001B[1;33m.\u001B[0m\u001B[0mread\u001B[0m\u001B[1;33m(\u001B[0m\u001B[1;33m)\u001B[0m\u001B[1;33m\u001B[0m\u001B[1;33m\u001B[0m\u001B[0m\n\u001B[0m\u001B[0;32m     15\u001B[0m     \u001B[1;31m# 对于所获得的图像，首先计算他的几何中心\u001B[0m\u001B[1;33m\u001B[0m\u001B[1;33m\u001B[0m\u001B[0m\n\u001B[0;32m     16\u001B[0m     \u001B[1;31m# 先转为灰度图\u001B[0m\u001B[1;33m\u001B[0m\u001B[1;33m\u001B[0m\u001B[0m\n",
      "\u001B[1;31mKeyboardInterrupt\u001B[0m: "
     ]
    }
   ],
   "source": [
    "# 红 绿 蓝\n",
    "# '''\n",
    "# _,image1=capture.read()\n",
    "# 对于所获得的图像，首先计算他的几何中心\n",
    "# 先转为灰度图\n",
    "# gray1=cv2.cvtColor(image1, cv2.COLOR_BGR2GRAY)\n",
    "# # 获取边界\n",
    "# edges=cv2.Canny(gray1, 240, 200)\n",
    "# # 打开开关\n",
    "red_center=np.ones(2)\n",
    "red_center[0]=240\n",
    "red_center[1]=320\n",
    "while True:# 首先我们读取摄像头的图片\n",
    "    _,image=capture.read()\n",
    "    # 对于所获得的图像，首先计算他的几何中心\n",
    "    # 先转为灰度图\n",
    "    gray=cv2.cvtColor(image, cv2.COLOR_BGR2GRAY)\n",
    "    edges_show=gray\n",
    "    # # 获取边界\n",
    "    # image_red_true=image[:,:,1].astype(np.float32)\n",
    "    # image_back=(image[:,:,2].astype(np.float32)+image[:,:,0].astype(np.float32))/2\n",
    "    # image_back=image_back.astype(np.float32)\n",
    "    # image_red=np.abs(image_red_true-image_back)\n",
    "    # # image_red=image[:,:,1]\n",
    "    # image_red=image_red.astype(numpy.uint8)\n",
    "    # red = np.array(np.argwhere(image_red>70))\n",
    "    # circle= np.array(np.where(edges))\n",
    "    # 获取红色中心点的坐标\n",
    "    # if red.shape[0]>2:\n",
    "    #     red_center=np.ones(2)\n",
    "    #     red_center[0]=int(np.sum(red[:,0])/(np.size(red[:,0])+0.001))\n",
    "    #     red_center[1]=int(np.sum(red[:,1])/(np.size(red[:,0])+0.001))\n",
    "    # else:\n",
    "    #     red_center=np.ones(2)\n",
    "    #     red_center[0]=240\n",
    "    #     red_center[1]=320\n",
    "    # red_center,back_gray=get_red_point(capture,red_center)\n",
    "    #red_center=np.array([red_center1[0,1],red_center1[0,0]])\n",
    "\n",
    "    # 获得边框中心点的坐标\n",
    "    # circle_center=np.ones(2)\n",
    "    # circle_center[0]=int(np.sum(circle[:,0])/(np.size(circle[:,0])+0.001))\n",
    "    # circle_center[1]=int(np.sum(circle[:,1])/(np.size(circle[:,1])+0.001))\n",
    "    # 之后，我们利用卷积操作，计算我们的中心点的边缘与边框\n",
    "    # 首先，创建一个同等大小的矩阵\n",
    "    _,image=capture.read()\n",
    "    image1_red=image[:,:,2].astype(np.float32)\n",
    "    image1_green=image[:,:,1].astype(np.float32)\n",
    "    image1_blue=image[:,:,0].astype(np.float32)\n",
    "    image2=image1_green-(image1_blue+image1_red)/2\n",
    "    image2[image2<0]=0\n",
    "    image2=image2*2\n",
    "\n",
    "    red_matrix=np.zeros((480,640))\n",
    "    # 叠加点的图像\n",
    "    if (int(red_center[0]-a)>0)&(int(red_center[0]+b)<480)&(int(red_center[1]-a)>0)&(int(red_center[1]+b)<640):\n",
    "        red_matrix[int(red_center[0]-a):int(red_center[0]+b),int(red_center[1]-a):int(red_center[1]+b)]=kernel\n",
    "        edges_show[int(red_center[0]-a):int(red_center[0]+b),int(red_center[1]-a):int(red_center[1]+b)]=kernel*25400\n",
    "    else:\n",
    "        red_matrix[240-a:240+b,320-a:320+b]=kernel\n",
    "        edges_show[240-a:240+b,320-a:320+b]=kernel*25400\n",
    "    # 定义得分\n",
    "    # score=np.sum(edges*red_matrix)\n",
    "    # 打印得分\n",
    "    # '''\n",
    "    # gray[0,0]=score\n",
    "    # cv2.imshow('image2', image2)\n",
    "    cv2.imshow('image', image)\n",
    "    cv2.imshow('edges_show', edges_show)\n",
    "    # cv2.imshow('back_gray', back_gray.astype(np.uint8))\n",
    "    cv2.imshow('image2', image2.astype(np.uint8))\n",
    "    cv2.imshow('red_matrix', red_matrix*20000)\n",
    "    cv2.waitKey(1)\n",
    "    # '''\n",
    "#'''"
   ],
   "metadata": {
    "collapsed": false,
    "pycharm": {
     "name": "#%%\n"
    }
   }
  }
 ],
 "metadata": {
  "kernelspec": {
   "display_name": "Python 3",
   "language": "python",
   "name": "python3"
  },
  "language_info": {
   "codemirror_mode": {
    "name": "ipython",
    "version": 2
   },
   "file_extension": ".py",
   "mimetype": "text/x-python",
   "name": "python",
   "nbconvert_exporter": "python",
   "pygments_lexer": "ipython2",
   "version": "2.7.6"
  }
 },
 "nbformat": 4,
 "nbformat_minor": 0
}