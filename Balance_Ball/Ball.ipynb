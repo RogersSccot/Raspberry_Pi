{
 "cells": [
  {
   "cell_type": "code",
   "execution_count": 1,
   "metadata": {},
   "outputs": [],
   "source": [
    "# 导入必要的函数库\n",
    "import cv2\n",
    "import numpy as np\n",
    "import math\n",
    "import matplotlib.pyplot as plt\n",
    "import serial\n",
    "from PIL import Image\n",
    "import pylab as pl\n",
    "from scipy import ndimage\n",
    "import scipy.ndimage\n",
    "import threading\n",
    "import time\n",
    "from matplotlib.patches import Polygon"
   ]
  },
  {
   "cell_type": "code",
   "execution_count": 7,
   "metadata": {},
   "outputs": [],
   "source": [
    "# 打开摄像头，占用内存大，不轻易运行\n",
    "capture=cv2.VideoCapture(1)"
   ]
  },
  {
   "cell_type": "code",
   "execution_count": 8,
   "metadata": {},
   "outputs": [],
   "source": [
    "# 拍照，保存一张照片\n",
    "def take_photo(photo_name):\n",
    "    global capture\n",
    "    photo_name=photo_name+'.jpg'\n",
    "    _,image=capture.read()\n",
    "    cv2.imwrite(photo_name,image)"
   ]
  },
  {
   "cell_type": "code",
   "execution_count": 9,
   "metadata": {},
   "outputs": [],
   "source": [
    "# 在某一图像的指定位置添加图案\n",
    "kernel = np.array([\n",
    "[0,0,0,0,0,0,0,1,1,1,1,1,1,1,1,0,0,0,0,0,0,0],\n",
    "[0,0,0,0,0,0,1,1,1,1,1,1,1,1,1,1,0,0,0,0,0,0],\n",
    "[0,0,0,0,0,1,1,1,1,1,1,1,1,1,1,1,1,0,0,0,0,0],\n",
    "[0,0,0,0,1,1,1,1,1,1,1,1,1,1,1,1,1,1,0,0,0,0],\n",
    "[0,0,0,1,1,1,1,1,1,1,1,1,1,1,1,1,1,1,1,0,0,0],\n",
    "[0,0,1,1,1,1,1,0,0,0,0,0,0,0,0,1,1,1,1,1,0,0],\n",
    "[0,1,1,1,1,1,0,0,0,0,0,0,0,0,0,0,1,1,1,1,1,0],\n",
    "[1,1,1,1,1,0,0,0,0,0,0,0,0,0,0,0,0,1,1,1,1,1],\n",
    "[1,1,1,1,1,0,0,0,0,0,0,0,0,0,0,0,0,1,1,1,1,1],\n",
    "[1,1,1,1,1,0,0,0,0,0,0,0,0,0,0,0,0,1,1,1,1,1],\n",
    "[1,1,1,1,1,0,0,0,0,0,0,0,0,0,0,0,0,1,1,1,1,1],\n",
    "[1,1,1,1,1,0,0,0,0,0,0,0,0,0,0,0,0,1,1,1,1,1],\n",
    "[1,1,1,1,1,0,0,0,0,0,0,0,0,0,0,0,0,1,1,1,1,1],\n",
    "[1,1,1,1,1,0,0,0,0,0,0,0,0,0,0,0,0,1,1,1,1,1],\n",
    "[1,1,1,1,1,0,0,0,0,0,0,0,0,0,0,0,0,1,1,1,1,1],\n",
    "[0,1,1,1,1,1,0,0,0,0,0,0,0,0,0,0,1,1,1,1,1,0],\n",
    "[0,0,1,1,1,1,1,0,0,0,0,0,0,0,0,1,1,1,1,1,0,0],\n",
    "[0,0,0,1,1,1,1,1,1,1,1,1,1,1,1,1,1,1,1,0,0,0],\n",
    "[0,0,0,0,1,1,1,1,1,1,1,1,1,1,1,1,1,1,0,0,0,0],\n",
    "[0,0,0,0,0,1,1,1,1,1,1,1,1,1,1,1,1,0,0,0,0,0],\n",
    "[0,0,0,0,0,0,1,1,1,1,1,1,1,1,1,1,0,0,0,0,0,0],\n",
    "[0,0,0,0,0,0,0,1,1,1,1,1,1,1,1,0,0,0,0,0,0,0],\n",
    "])*255\n",
    "def draw_image(image_gray_to_draw, kernel_point):\n",
    "    if (int(kernel_point[0]-11)>0)&(int(kernel_point[0]+11)<480)&(int(kernel_point[1]-11)>0)&(int(kernel_point[1]+11)<640):\n",
    "        image_gray_to_draw[int(kernel_point[0]-11):int(kernel_point[0]+11),int(kernel_point[1]-11):int(kernel_point[1]+11)]=kernel*255\n",
    "    else:\n",
    "        image_gray_to_draw[240-11:240+11,320-11:320+11]=kernel*255\n",
    "    return image_gray_to_draw"
   ]
  },
  {
   "cell_type": "code",
   "execution_count": 10,
   "metadata": {},
   "outputs": [],
   "source": [
    "# 获取球坐标\n",
    "# def get_ball():\n"
   ]
  },
  {
   "cell_type": "code",
   "execution_count": 11,
   "metadata": {},
   "outputs": [],
   "source": [
    "# 图像的映射变换\n",
    "def photo_transform(ad,origin,border_point):\n",
    "    # 原先的四个角的边缘点\n",
    "    pts = np.float32([[0,0],[0,origin.shape[1]],[origin.shape[0],origin.shape[1]],[origin.shape[0],0]])\n",
    "    # 由于变换的特殊性，这里后面的点是列行，反着来的\n",
    "    border_point_1=np.zeros(np.shape(border_point))\n",
    "    border_point_1[:,0]=border_point[:,1]\n",
    "    border_point_1[:,1]=border_point[:,0]\n",
    "    pts1 = np.float32(border_point_1)\n",
    "    # 生成最为关键的变换矩阵\n",
    "    M = cv2.getPerspectiveTransform(pts,pts1)\n",
    "    # 变换正方形\n",
    "    square_trans = cv2.warpPerspective(origin,M,(ad.shape[1],ad.shape[0]))\n",
    "    square_trans = cv2.cvtColor(square_trans, cv2.COLOR_RGB2GRAY)\n",
    "    _, square_trans = cv2.threshold(square_trans, 127, 255, cv2.THRESH_BINARY)\n",
    "    return square_trans"
   ]
  },
  {
   "cell_type": "code",
   "execution_count": 12,
   "metadata": {},
   "outputs": [],
   "source": [
    "# 获取并处理图像\n",
    "def get_image():\n",
    "    # while True:\n",
    "        # 开全局变量处理，分理处红绿蓝\n",
    "        global image, image_red, image_green, image_blue\n",
    "        # 从摄像头获取图像\n",
    "        _,image=capture.read()\n",
    "        # image=cv2.imread('1.jpg')\n",
    "        image_red=image[:,:,2].astype(np.float32)\n",
    "        image_green=image[:,:,1].astype(np.float32)\n",
    "        image_blue=image[:,:,0].astype(np.float32)\n",
    "        # cv2.imshow('image_red_only',image_red_only)\n",
    "        # cv2.waitKey(1)\n",
    "\n",
    "# 获取图像单独开进程\n",
    "# get_image_threading = threading.Thread(target=get_image)\n",
    "# get_image_threading.start()"
   ]
  },
  {
   "cell_type": "code",
   "execution_count": 13,
   "metadata": {},
   "outputs": [],
   "source": [
    "# 突出图像中的红色目标\n",
    "def get_red():\n",
    "    global image, image_red, image_green, image_blue\n",
    "    image_red_only=image_red*2-image_blue-image_green\n",
    "    image_red_only[image_red_only<0]=0\n",
    "    image_red_only_photo=image_red_only.astype(np.uint8)\n",
    "    return image_red_only_photo, image_red_only"
   ]
  },
  {
   "cell_type": "code",
   "execution_count": 14,
   "metadata": {},
   "outputs": [],
   "source": [
    "# 突出图像中的绿色目标\n",
    "def get_green():\n",
    "    global image, image_red, image_green, image_blue\n",
    "    image_green_only=image_green*2-image_blue-image_red\n",
    "    image_green_only[image_green_only<0]=0\n",
    "    image_green_only_photo=image_green_only.astype(np.uint8)\n",
    "    return image_green_only_photo, image_green_only"
   ]
  },
  {
   "cell_type": "code",
   "execution_count": 15,
   "metadata": {},
   "outputs": [],
   "source": [
    "# 突出图像中的蓝色目标\n",
    "def get_blue():\n",
    "    global image, image_red, image_green, image_blue\n",
    "    image_blue_only=image_blue*2-image_blue-image_red\n",
    "    image_blue_only[image_blue_only<0]=0\n",
    "    image_blue_only_photo=image_blue_only.astype(np.uint8)\n",
    "    return image_blue_only_photo, image_blue_only"
   ]
  },
  {
   "cell_type": "code",
   "execution_count": 16,
   "metadata": {},
   "outputs": [],
   "source": [
    "# 展示图片\n",
    "def show_image(image):\n",
    "    plt.imshow(image, cmap='gray')\n",
    "    plt.axis('off')  # 不显示坐标轴\n",
    "    plt.show()"
   ]
  },
  {
   "cell_type": "code",
   "execution_count": 50,
   "metadata": {},
   "outputs": [],
   "source": [
    "ex1=get_image()"
   ]
  },
  {
   "cell_type": "code",
   "execution_count": 51,
   "metadata": {},
   "outputs": [],
   "source": [
    "ex1_red, ex1_red_photo=get_red()\n",
    "# 阈值分割图像\n",
    "ex1_red=cv2.threshold(ex1_red, 200, 255, cv2.THRESH_BINARY)[1]"
   ]
  },
  {
   "cell_type": "code",
   "execution_count": 52,
   "metadata": {},
   "outputs": [
    {
     "data": {
      "image/png": "[encoded data removed]",
      "text/plain": [
       "<Figure size 640x480 with 1 Axes>"
      ]
     },
     "metadata": {},
     "output_type": "display_data"
    }
   ],
   "source": [
    "show_image(ex1_red)"
   ]
  },
  {
   "cell_type": "code",
   "execution_count": 53,
   "metadata": {},
   "outputs": [
    {
     "data": {
      "image/png": "[encoded data removed]",
      "text/plain": [
       "<Figure size 640x480 with 1 Axes>"
      ]
     },
     "metadata": {},
     "output_type": "display_data"
    },
    {
     "data": {
      "image/png": "[encoded data removed]",
      "text/plain": [
       "<Figure size 640x480 with 1 Axes>"
      ]
     },
     "metadata": {},
     "output_type": "display_data"
    }
   ],
   "source": [
    "show_image(ex1_red)\n",
    "# 找出ex1_red中大于255的\n",
    "red_point=np.where(ex1_red>200)\n",
    "red_point=np.mean(red_point,axis=1)\n",
    "ex1_red_photo=draw_image(ex1_red_photo,red_point)\n",
    "show_image(ex1_red_photo)"
   ]
  },
  {
   "cell_type": "code",
   "execution_count": 54,
   "metadata": {},
   "outputs": [
    {
     "name": "stdout",
     "output_type": "stream",
     "text": [
      "[297.03125 416.90625]\n"
     ]
    }
   ],
   "source": [
    "print(red_point)"
   ]
  },
  {
   "cell_type": "code",
   "execution_count": 55,
   "metadata": {},
   "outputs": [],
   "source": [
    "center_point=np.array([14.2,325.9])"
   ]
  },
  {
   "cell_type": "code",
   "execution_count": 56,
   "metadata": {},
   "outputs": [],
   "source": [
    "def red_point_char(red_point):\n",
    "    red_point_x=int(red_point[0]*10)\n",
    "    red_point_y=int(red_point[1]*10)\n",
    "    red_point_send='X'+str(int(red_point_x/1000))+str(int((red_point_x/100)%10))+'.'+str(int((red_point_x/10)%10))+str(int((red_point_x)%10))+'Y'+str(int(red_point_y/1000))+str(int((red_point_y/100)%10))+'.'+str(int((red_point_y/10)%10))+str(int((red_point_y)%10))\n",
    "    return red_point_send"
   ]
  },
  {
   "cell_type": "code",
   "execution_count": 57,
   "metadata": {},
   "outputs": [
    {
     "name": "stdout",
     "output_type": "stream",
     "text": [
      "X29.70Y41.69\n"
     ]
    }
   ],
   "source": [
    "print(red_point_char(red_point))"
   ]
  },
  {
   "cell_type": "code",
   "execution_count": 3,
   "metadata": {},
   "outputs": [
    {
     "data": {
      "text/plain": [
       "9.046249999999999"
      ]
     },
     "execution_count": 3,
     "metadata": {},
     "output_type": "execute_result"
    }
   ],
   "source": [
    "R"
   ]
  },
  {
   "cell_type": "code",
   "execution_count": 4,
   "metadata": {},
   "outputs": [
    {
     "name": "stdout",
     "output_type": "stream",
     "text": [
      "27.42\n",
      "32.59\n",
      "25.662640687119286\n",
      "36.83264068711929\n",
      "21.42\n",
      "38.59\n",
      "17.177359312880718\n",
      "36.83264068711929\n",
      "15.420000000000002\n",
      "32.59\n",
      "17.177359312880718\n",
      "28.34735931288072\n",
      "21.42\n",
      "26.590000000000003\n",
      "25.662640687119286\n",
      "28.34735931288072\n"
     ]
    }
   ],
   "source": [
    "R=(30.70-12.33+40.55-22.81+31.68-13.59+41.69-23.52)/8\n",
    "p=8\n",
    "A=360/p\n",
    "p7x=[]\n",
    "p7y=[]\n",
    "for i in range(p):\n",
    "    px=21.42+6*math.cos(math.radians(A*i))\n",
    "    py=32.59+6*math.sin(math.radians(A*i))\n",
    "    p7x.append(px)\n",
    "    print(px)\n",
    "    p7y.append(py)\n",
    "    print(py)\n"
   ]
  },
  {
   "cell_type": "code",
   "execution_count": 5,
   "metadata": {},
   "outputs": [
    {
     "name": "stdout",
     "output_type": "stream",
     "text": [
      "[27.42, 25.662640687119286, 21.42, 17.177359312880718, 15.420000000000002, 17.177359312880718, 21.42, 25.662640687119286]\n"
     ]
    }
   ],
   "source": [
    "print(p7x)"
   ]
  },
  {
   "cell_type": "code",
   "execution_count": 6,
   "metadata": {},
   "outputs": [
    {
     "name": "stdout",
     "output_type": "stream",
     "text": [
      "[32.59, 36.83264068711929, 38.59, 36.83264068711929, 32.59, 28.34735931288072, 26.590000000000003, 28.34735931288072]\n"
     ]
    }
   ],
   "source": [
    "print(p7y)"
   ]
  },
  {
   "cell_type": "code",
   "execution_count": null,
   "metadata": {},
   "outputs": [],
   "source": [
    "21.42, 25.66,27.42, 25.66, 21.42, 17.17, 15.42, 17.17,21.42, 25.66,27.42, 25.66, 21.42, 17.17, 15.42, 17.17,21.42, 25.66,27.42, 25.66, 21.42, 17.17, 15.42,17.17,21.42,25.66,"
   ]
  },
  {
   "cell_type": "code",
   "execution_count": null,
   "metadata": {},
   "outputs": [],
   "source": [
    "19.17,17.42,19.17,23.42,27.66,29.42,27.66,23.42,19.17,17.42,19.17,23.42,27.66,29.42,27.66,23.42,19.17,17.42,19.17,23.42,27.66,29.42,27.66,23.42,"
   ]
  }
 ],
 "metadata": {
  "kernelspec": {
   "display_name": "Python 3",
   "language": "python",
   "name": "python3"
  },
  "language_info": {
   "codemirror_mode": {
    "name": "ipython",
    "version": 3
   },
   "file_extension": ".py",
   "mimetype": "text/x-python",
   "name": "python",
   "nbconvert_exporter": "python",
   "pygments_lexer": "ipython3",
   "version": "3.9.18"
  }
 },
 "nbformat": 4,
 "nbformat_minor": 2
}
